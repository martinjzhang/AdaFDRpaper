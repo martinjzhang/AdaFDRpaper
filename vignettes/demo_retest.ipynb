{
 "cells": [
  {
   "cell_type": "code",
   "execution_count": 1,
   "metadata": {},
   "outputs": [],
   "source": [
    "import numpy as np\n",
    "import pandas as pd\n",
    "import adafdr.method as md\n",
    "import adafdr.data_loader as dl\n",
    "import matplotlib.pyplot as plt\n",
    "import time\n",
    "%matplotlib inline\n",
    "%load_ext autoreload\n",
    "%autoreload 2"
   ]
  },
  {
   "cell_type": "markdown",
   "metadata": {},
   "source": [
    "# Data loading\n",
    "We use the airway data here"
   ]
  },
  {
   "cell_type": "code",
   "execution_count": 2,
   "metadata": {},
   "outputs": [
    {
     "name": "stdout",
     "output_type": "stream",
     "text": [
      "p: (33469,)\n",
      "x: (33469, 1)\n"
     ]
    }
   ],
   "source": [
    "# Load the data (airway)\n",
    "p,x = dl.data_airway()\n",
    "print('p:', p.shape)\n",
    "print('x:', x.shape)"
   ]
  },
  {
   "cell_type": "markdown",
   "metadata": {},
   "source": [
    "# Demo of adafdr_retest\n",
    "We first obtain the original testing result with $\\alpha=0.1$ using adafdr_test and then obtain the testing result with $\\alpha=0.05$ using adafdr_retest"
   ]
  },
  {
   "cell_type": "code",
   "execution_count": 3,
   "metadata": {},
   "outputs": [
    {
     "name": "stdout",
     "output_type": "stream",
     "text": [
      "# number of discoveries for adafdr_test at alpha=0.1: 6021\n",
      "# time = 9.28s\n",
      "# number of discoveries for adafdr_retest at alpha=0.05: 3769\n",
      "# time = 0.07s\n"
     ]
    }
   ],
   "source": [
    "start_time = time.time()\n",
    "res = md.adafdr_test(p, x, alpha=0.1, fast_mode=True, single_core=False)\n",
    "print('# number of discoveries for adafdr_test at alpha=0.1: %d'%np.sum(res['decision']))\n",
    "print('# time = %0.2fs'%(time.time()-start_time))\n",
    "\n",
    "start_time = time.time()\n",
    "res_retest = md.adafdr_retest(res, alpha=0.02)\n",
    "print('# number of discoveries for adafdr_retest at alpha=0.05: %d'\n",
    "      %np.sum(res_retest['decision']))\n",
    "print('# time = %0.2fs'%(time.time()-start_time))"
   ]
  },
  {
   "cell_type": "markdown",
   "metadata": {},
   "source": [
    "## Result comparison\n",
    "Here we examine the result for a list of $\\alpha$'s between using adafdr_test and adafdr_retest. The result may be slightly different due to numerical issues. "
   ]
  },
  {
   "cell_type": "code",
   "execution_count": 4,
   "metadata": {},
   "outputs": [
    {
     "name": "stdout",
     "output_type": "stream",
     "text": [
      "# alpha=0.02, # of difference: 0/33469\n",
      "# alpha=0.04, # of difference: 1/33469\n",
      "# alpha=0.06, # of difference: 0/33469\n",
      "# alpha=0.08, # of difference: 0/33469\n"
     ]
    }
   ],
   "source": [
    "# Get the orignal result at alpha=0.1\n",
    "res = md.adafdr_test(p, x, alpha=0.1, fast_mode=True, single_core=False)\n",
    "# retest for a list of alpha's \n",
    "# alpha_list = (np.arange(9)+1)*0.01\n",
    "alpha_list = [0.02, 0.04, 0.06, 0.08]\n",
    "for alpha in alpha_list:\n",
    "    res_test = md.adafdr_test(p, x, alpha=alpha, fast_mode=True, single_core=False)\n",
    "    res_retest = md.adafdr_retest(res, alpha=alpha)\n",
    "    print('# alpha=%0.2f, # of difference: %d/%d'\n",
    "          %(alpha, np.sum(res_test['decision']!=res_retest['decision']), \n",
    "            res_test['decision'].shape[0]))"
   ]
  },
  {
   "cell_type": "code",
   "execution_count": null,
   "metadata": {},
   "outputs": [],
   "source": []
  }
 ],
 "metadata": {
  "kernelspec": {
   "display_name": "Python 3",
   "language": "python",
   "name": "python3"
  },
  "language_info": {
   "codemirror_mode": {
    "name": "ipython",
    "version": 3
   },
   "file_extension": ".py",
   "mimetype": "text/x-python",
   "name": "python",
   "nbconvert_exporter": "python",
   "pygments_lexer": "ipython3",
   "version": "3.6.3"
  }
 },
 "nbformat": 4,
 "nbformat_minor": 2
}
