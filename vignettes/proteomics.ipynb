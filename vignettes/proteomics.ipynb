{
 "cells": [
  {
   "cell_type": "code",
   "execution_count": 1,
   "metadata": {},
   "outputs": [],
   "source": [
    "import numpy as np\n",
    "import pandas as pd\n",
    "import adafdr.method as md\n",
    "import adafdr.data_loader as dl\n",
    "import matplotlib.pyplot as plt\n",
    "%matplotlib inline\n",
    "%load_ext autoreload\n",
    "%autoreload 2"
   ]
  },
  {
   "cell_type": "markdown",
   "metadata": {},
   "source": [
    "# Proteomics"
   ]
  },
  {
   "cell_type": "code",
   "execution_count": 2,
   "metadata": {},
   "outputs": [
    {
     "name": "stdout",
     "output_type": "stream",
     "text": [
      "p: (2666,)\n",
      "x: (2666,)\n"
     ]
    }
   ],
   "source": [
    "data_path = '/data3/martin/AdaFDRpaper_data'\n",
    "file_path = data_path + '/proteomics/proteomics'\n",
    "df_data = pd.read_csv(file_path, sep=',')\n",
    "p = df_data['p_val'].as_matrix()\n",
    "x = df_data['x'].as_matrix()\n",
    "print('p:', p.shape)\n",
    "print('x:', x.shape)"
   ]
  },
  {
   "cell_type": "markdown",
   "metadata": {},
   "source": [
    "## covariate visualization"
   ]
  },
  {
   "cell_type": "code",
   "execution_count": 3,
   "metadata": {},
   "outputs": [
    {
     "data": {
      "image/png": "[encoded data removed]",
      "text/plain": [
       "<Figure size 360x216 with 1 Axes>"
      ]
     },
     "metadata": {},
     "output_type": "display_data"
    },
    {
     "data": {
      "image/png": "[encoded data removed]",
      "text/plain": [
       "<Figure size 360x216 with 1 Axes>"
      ]
     },
     "metadata": {},
     "output_type": "display_data"
    }
   ],
   "source": [
    "md.adafdr_explore(p, x, output_folder=None)"
   ]
  },
  {
   "cell_type": "markdown",
   "metadata": {},
   "source": [
    "## hypothesis testing"
   ]
  },
  {
   "cell_type": "code",
   "execution_count": 4,
   "metadata": {},
   "outputs": [
    {
     "name": "stdout",
     "output_type": "stream",
     "text": [
      "# number of discoveries for BH: 244\n",
      "# number of discoveries for SBH: 358\n",
      "# number of discoveries for adafdr: 409\n"
     ]
    }
   ],
   "source": [
    "# Baseline methods: BH, SBH\n",
    "alpha = 0.1\n",
    "n_rej, t_rej = md.bh_test(p, alpha=alpha, verbose=False)\n",
    "print('# number of discoveries for BH: %d'%n_rej)\n",
    "n_rej, t_rej, pi0_hat = md.sbh_test(p, alpha=alpha, verbose=False)\n",
    "print('# number of discoveries for SBH: %d'%n_rej)\n",
    "res = md.adafdr_test(p, x, alpha=alpha, fast_mode=True, single_core=False)\n",
    "n_rej = res['n_rej']\n",
    "t_rej = res['threshold']\n",
    "print('# number of discoveries for adafdr: %d'%np.sum(p<=t_rej))"
   ]
  },
  {
   "cell_type": "code",
   "execution_count": 5,
   "metadata": {},
   "outputs": [
    {
     "name": "stdout",
     "output_type": "stream",
     "text": [
      "[1] \"data_path: /data3/martin/AdaFDRpaper_data/proteomics/proteomics\"\n",
      "[1] \"alpha: 0.1\"\n",
      "[1] \"Loading the data\"\n",
      "alpha = 0.48: FDPhat 0.4799, Number of Rej. 1640\n",
      "alpha = 0.47: FDPhat 0.4699, Number of Rej. 1630\n",
      "alpha = 0.46: FDPhat 0.4596, Number of Rej. 1584\n",
      "alpha = 0.45: FDPhat 0.4495, Number of Rej. 1555\n",
      "alpha = 0.44: FDPhat 0.4398, Number of Rej. 1521\n",
      "alpha = 0.43: FDPhat 0.4298, Number of Rej. 1503\n",
      "alpha = 0.42: FDPhat 0.4198, Number of Rej. 1441\n",
      "alpha = 0.41: FDPhat 0.4096, Number of Rej. 1421\n",
      "alpha = 0.4: FDPhat 0.3994, Number of Rej. 1362\n",
      "alpha = 0.39: FDPhat 0.3896, Number of Rej. 1304\n",
      "alpha = 0.38: FDPhat 0.3798, Number of Rej. 1290\n",
      "alpha = 0.37: FDPhat 0.3698, Number of Rej. 1198\n",
      "alpha = 0.36: FDPhat 0.3595, Number of Rej. 1171\n",
      "alpha = 0.35: FDPhat 0.35, Number of Rej. 1160\n",
      "alpha = 0.34: FDPhat 0.3392, Number of Rej. 1135\n",
      "alpha = 0.33: FDPhat 0.3295, Number of Rej. 1117\n",
      "alpha = 0.32: FDPhat 0.3197, Number of Rej. 1104\n",
      "alpha = 0.31: FDPhat 0.3098, Number of Rej. 1075\n",
      "alpha = 0.3: FDPhat 0.2995, Number of Rej. 1055\n",
      "alpha = 0.29: FDPhat 0.2898, Number of Rej. 1011\n",
      "alpha = 0.28: FDPhat 0.2797, Number of Rej. 994\n",
      "alpha = 0.27: FDPhat 0.2694, Number of Rej. 939\n",
      "alpha = 0.26: FDPhat 0.26, Number of Rej. 927\n",
      "alpha = 0.25: FDPhat 0.25, Number of Rej. 900\n",
      "alpha = 0.24: FDPhat 0.2399, Number of Rej. 863\n",
      "alpha = 0.23: FDPhat 0.2292, Number of Rej. 842\n",
      "alpha = 0.22: FDPhat 0.2193, Number of Rej. 830\n",
      "alpha = 0.21: FDPhat 0.21, Number of Rej. 781\n",
      "alpha = 0.2: FDPhat 0.1995, Number of Rej. 747\n",
      "alpha = 0.19: FDPhat 0.1898, Number of Rej. 722\n",
      "alpha = 0.18: FDPhat 0.1789, Number of Rej. 693\n",
      "alpha = 0.17: FDPhat 0.1698, Number of Rej. 683\n",
      "alpha = 0.16: FDPhat 0.1599, Number of Rej. 644\n",
      "alpha = 0.15: FDPhat 0.1497, Number of Rej. 561\n",
      "alpha = 0.14: FDPhat 0.1397, Number of Rej. 537\n",
      "alpha = 0.13: FDPhat 0.13, Number of Rej. 454\n",
      "alpha = 0.12: FDPhat 0.1186, Number of Rej. 413\n",
      "alpha = 0.11: FDPhat 0.1092, Number of Rej. 403\n",
      "alpha = 0.1: FDPhat 0.099, Number of Rej. 384\n",
      "alpha = 0.09: FDPhat 0.0894, Number of Rej. 369\n",
      "alpha = 0.08: FDPhat 0.0794, Number of Rej. 340\n",
      "alpha = 0.07: FDPhat 0.0691, Number of Rej. 304\n",
      "alpha = 0.06: FDPhat 0.0584, Number of Rej. 274\n",
      "alpha = 0.05: FDPhat 0.0496, Number of Rej. 262\n",
      "alpha = 0.04: FDPhat 0.0395, Number of Rej. 177\n",
      "alpha = 0.03: FDPhat 0.0272, Number of Rej. 147\n",
      "[1] \"Number of rejections for AdaPT: 384\"\n",
      "[1] \"Number of rejections for IHW: 245\"\n",
      "[1] \"Number of rejections for BL: 406\"\n"
     ]
    },
    {
     "name": "stderr",
     "output_type": "stream",
     "text": [
      "Loading required package: nlme\n",
      "This is mgcv 1.8-24. For overview type 'help(\"mgcv-package\")'.\n",
      "Only 1 bin; IHW reduces to Benjamini Hochberg (uniform weights)\n"
     ]
    }
   ],
   "source": [
    "%%bash -s \"$file_path\" \"$alpha\"\n",
    "Rscript analysis_single.R $1 $2"
   ]
  },
  {
   "cell_type": "code",
   "execution_count": null,
   "metadata": {},
   "outputs": [],
   "source": []
  }
 ],
 "metadata": {
  "kernelspec": {
   "display_name": "Python 3",
   "language": "python",
   "name": "python3"
  },
  "language_info": {
   "codemirror_mode": {
    "name": "ipython",
    "version": 3
   },
   "file_extension": ".py",
   "mimetype": "text/x-python",
   "name": "python",
   "nbconvert_exporter": "python",
   "pygments_lexer": "ipython3",
   "version": "3.6.3"
  }
 },
 "nbformat": 4,
 "nbformat_minor": 2
}
