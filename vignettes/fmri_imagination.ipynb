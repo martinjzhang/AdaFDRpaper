{
 "cells": [
  {
   "cell_type": "code",
   "execution_count": 1,
   "metadata": {},
   "outputs": [],
   "source": [
    "import numpy as np\n",
    "import pandas as pd\n",
    "import adafdr.method as md\n",
    "import adafdr.data_loader as dl\n",
    "import matplotlib.pyplot as plt\n",
    "%matplotlib inline\n",
    "%load_ext autoreload\n",
    "%autoreload 2"
   ]
  },
  {
   "cell_type": "markdown",
   "metadata": {},
   "source": [
    "# fMRI: auditory"
   ]
  },
  {
   "cell_type": "code",
   "execution_count": 2,
   "metadata": {},
   "outputs": [
    {
     "name": "stdout",
     "output_type": "stream",
     "text": [
      "p: (15648,)\n",
      "x: (15648,)\n"
     ]
    }
   ],
   "source": [
    "data_path = '/data3/martin/AdaFDRpaper_data'\n",
    "file_path = data_path + '/fmri/fmri_imagination'\n",
    "df_fmri = pd.read_csv(file_path, sep=',')\n",
    "p = df_fmri['p_val'].as_matrix()\n",
    "x = df_fmri['B_label'].as_matrix()\n",
    "print('p:', p.shape)\n",
    "print('x:', x.shape)"
   ]
  },
  {
   "cell_type": "markdown",
   "metadata": {},
   "source": [
    "## covariate visualization"
   ]
  },
  {
   "cell_type": "code",
   "execution_count": 3,
   "metadata": {},
   "outputs": [],
   "source": [
    "md.adafdr_explore(p, x, output_folder='/home/martin/NeuralFDR2/result_small_data/result_fmri_imagination', figsize=[7,4])"
   ]
  },
  {
   "cell_type": "markdown",
   "metadata": {},
   "source": [
    "## Hypothesis testing"
   ]
  },
  {
   "cell_type": "code",
   "execution_count": 4,
   "metadata": {},
   "outputs": [
    {
     "name": "stdout",
     "output_type": "stream",
     "text": [
      "# number of discoveries for BH: 2141\n",
      "# number of discoveries for SBH: 2228\n",
      "# number of discoveries for adafdr: 2239\n"
     ]
    }
   ],
   "source": [
    "# Baseline methods: BH, SBH\n",
    "alpha = 0.1\n",
    "n_rej, t_rej = md.bh_test(p, alpha=alpha, verbose=False)\n",
    "print('# number of discoveries for BH: %d'%n_rej)\n",
    "n_rej, t_rej, pi0_hat = md.sbh_test(p, alpha=alpha, verbose=False)\n",
    "print('# number of discoveries for SBH: %d'%n_rej)\n",
    "res = md.adafdr_test(p, x, alpha=alpha, fast_mode=True, single_core=False)\n",
    "n_rej = res['n_rej']\n",
    "t_rej = res['threshold']\n",
    "print('# number of discoveries for adafdr: %d'%np.sum(p<=t_rej))"
   ]
  },
  {
   "cell_type": "markdown",
   "metadata": {},
   "source": [
    "### R methods"
   ]
  },
  {
   "cell_type": "code",
   "execution_count": 5,
   "metadata": {},
   "outputs": [
    {
     "name": "stdout",
     "output_type": "stream",
     "text": [
      "[1] \"data_path: /data3/martin/AdaFDRpaper_data/fmri/fmri_imagination\"\n",
      "[1] \"alpha: 0.1\"\n",
      "[1] \"Loading the data\"\n",
      "alpha = 0.82: FDPhat 0.82, Number of Rej. 8032\n",
      "alpha = 0.81: FDPhat 0.81, Number of Rej. 7847\n",
      "alpha = 0.8: FDPhat 0.8, Number of Rej. 7655\n",
      "alpha = 0.79: FDPhat 0.7899, Number of Rej. 7445\n",
      "alpha = 0.78: FDPhat 0.78, Number of Rej. 7354\n",
      "alpha = 0.77: FDPhat 0.7699, Number of Rej. 7209\n",
      "alpha = 0.76: FDPhat 0.7599, Number of Rej. 6968\n",
      "alpha = 0.75: FDPhat 0.75, Number of Rej. 6715\n",
      "alpha = 0.74: FDPhat 0.7399, Number of Rej. 6682\n",
      "alpha = 0.73: FDPhat 0.7299, Number of Rej. 6561\n",
      "alpha = 0.72: FDPhat 0.7199, Number of Rej. 6408\n",
      "alpha = 0.71: FDPhat 0.7099, Number of Rej. 6191\n",
      "alpha = 0.7: FDPhat 0.7, Number of Rej. 6070\n",
      "alpha = 0.69: FDPhat 0.6899, Number of Rej. 5914\n",
      "alpha = 0.68: FDPhat 0.6799, Number of Rej. 5670\n",
      "alpha = 0.67: FDPhat 0.6699, Number of Rej. 5571\n",
      "alpha = 0.66: FDPhat 0.66, Number of Rej. 5394\n",
      "alpha = 0.65: FDPhat 0.6499, Number of Rej. 5299\n",
      "alpha = 0.64: FDPhat 0.64, Number of Rej. 5280\n",
      "alpha = 0.63: FDPhat 0.6298, Number of Rej. 5222\n",
      "alpha = 0.62: FDPhat 0.6199, Number of Rej. 5001\n",
      "alpha = 0.61: FDPhat 0.6098, Number of Rej. 4898\n",
      "alpha = 0.6: FDPhat 0.6, Number of Rej. 4780\n",
      "alpha = 0.59: FDPhat 0.5899, Number of Rej. 4640\n",
      "alpha = 0.58: FDPhat 0.58, Number of Rej. 4500\n",
      "alpha = 0.57: FDPhat 0.5699, Number of Rej. 4441\n",
      "alpha = 0.56: FDPhat 0.5599, Number of Rej. 4383\n",
      "alpha = 0.55: FDPhat 0.55, Number of Rej. 4242\n",
      "alpha = 0.54: FDPhat 0.5399, Number of Rej. 4051\n",
      "alpha = 0.53: FDPhat 0.53, Number of Rej. 3900\n",
      "alpha = 0.52: FDPhat 0.5198, Number of Rej. 3792\n",
      "alpha = 0.51: FDPhat 0.5099, Number of Rej. 3728\n",
      "alpha = 0.5: FDPhat 0.5, Number of Rej. 3540\n",
      "alpha = 0.49: FDPhat 0.4899, Number of Rej. 3452\n",
      "alpha = 0.48: FDPhat 0.4799, Number of Rej. 3363\n",
      "alpha = 0.47: FDPhat 0.4699, Number of Rej. 3277\n",
      "alpha = 0.46: FDPhat 0.4598, Number of Rej. 3197\n",
      "alpha = 0.45: FDPhat 0.4498, Number of Rej. 3157\n",
      "alpha = 0.44: FDPhat 0.44, Number of Rej. 3050\n",
      "alpha = 0.43: FDPhat 0.4299, Number of Rej. 2987\n",
      "alpha = 0.42: FDPhat 0.4198, Number of Rej. 2868\n",
      "alpha = 0.41: FDPhat 0.4099, Number of Rej. 2774\n",
      "alpha = 0.4: FDPhat 0.3999, Number of Rej. 2653\n",
      "alpha = 0.39: FDPhat 0.3898, Number of Rej. 2591\n",
      "alpha = 0.38: FDPhat 0.3797, Number of Rej. 2497\n",
      "alpha = 0.37: FDPhat 0.3699, Number of Rej. 2395\n",
      "alpha = 0.36: FDPhat 0.36, Number of Rej. 2353\n",
      "alpha = 0.35: FDPhat 0.3499, Number of Rej. 2309\n",
      "alpha = 0.34: FDPhat 0.3399, Number of Rej. 2239\n",
      "alpha = 0.33: FDPhat 0.33, Number of Rej. 2173\n",
      "alpha = 0.32: FDPhat 0.3199, Number of Rej. 2132\n",
      "alpha = 0.31: FDPhat 0.31, Number of Rej. 2100\n",
      "alpha = 0.3: FDPhat 0.3, Number of Rej. 2050\n",
      "alpha = 0.29: FDPhat 0.2897, Number of Rej. 2009\n",
      "alpha = 0.28: FDPhat 0.2797, Number of Rej. 1938\n",
      "alpha = 0.27: FDPhat 0.2698, Number of Rej. 1890\n",
      "alpha = 0.26: FDPhat 0.2599, Number of Rej. 1793\n",
      "alpha = 0.25: FDPhat 0.25, Number of Rej. 1728\n",
      "alpha = 0.24: FDPhat 0.2397, Number of Rej. 1673\n",
      "alpha = 0.23: FDPhat 0.2298, Number of Rej. 1636\n",
      "alpha = 0.22: FDPhat 0.2198, Number of Rej. 1547\n",
      "alpha = 0.21: FDPhat 0.2099, Number of Rej. 1420\n",
      "alpha = 0.2: FDPhat 0.1997, Number of Rej. 1382\n",
      "alpha = 0.19: FDPhat 0.1898, Number of Rej. 1280\n",
      "alpha = 0.18: FDPhat 0.1796, Number of Rej. 1169\n",
      "alpha = 0.17: FDPhat 0.1698, Number of Rej. 1078\n",
      "alpha = 0.16: FDPhat 0.1595, Number of Rej. 997\n",
      "alpha = 0.15: FDPhat 0.1499, Number of Rej. 947\n",
      "alpha = 0.14: FDPhat 0.1396, Number of Rej. 867\n",
      "alpha = 0.13: FDPhat 0.1299, Number of Rej. 739\n",
      "alpha = 0.12: FDPhat 0.1199, Number of Rej. 534\n",
      "alpha = 0.11: FDPhat 0.1097, Number of Rej. 401\n",
      "alpha = 0.1: FDPhat 0.0985, Number of Rej. 203\n",
      "alpha = 0.09: FDPhat 0.0896, Number of Rej. 201\n",
      "alpha = 0.08: FDPhat 0.0606, Number of Rej. 33\n",
      "alpha = 0.07: FDPhat 0.0606, Number of Rej. 33\n",
      "alpha = 0.06: FDPhat 0.0556, Number of Rej. 18\n",
      "[1] \"Number of rejections for AdaPT: 203\"\n",
      "[1] \"Number of rejections for IHW: 2151\"\n"
     ]
    },
    {
     "name": "stderr",
     "output_type": "stream",
     "text": [
      "Loading required package: nlme\n",
      "This is mgcv 1.8-24. For overview type 'help(\"mgcv-package\")'.\n"
     ]
    }
   ],
   "source": [
    "%%bash -s \"$file_path\" \"$alpha\"\n",
    "Rscript analysis_fmri.R $1 $2"
   ]
  },
  {
   "cell_type": "code",
   "execution_count": null,
   "metadata": {},
   "outputs": [],
   "source": []
  }
 ],
 "metadata": {
  "kernelspec": {
   "display_name": "Python 3",
   "language": "python",
   "name": "python3"
  },
  "language_info": {
   "codemirror_mode": {
    "name": "ipython",
    "version": 3
   },
   "file_extension": ".py",
   "mimetype": "text/x-python",
   "name": "python",
   "nbconvert_exporter": "python",
   "pygments_lexer": "ipython3",
   "version": "3.6.3"
  }
 },
 "nbformat": 4,
 "nbformat_minor": 2
}
