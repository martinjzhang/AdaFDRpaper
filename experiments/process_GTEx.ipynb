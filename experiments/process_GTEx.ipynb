{
 "cells": [
  {
   "cell_type": "code",
   "execution_count": 1,
   "metadata": {},
   "outputs": [],
   "source": [
    "## import public packages\n",
    "import numpy as np\n",
    "import matplotlib.pyplot as plt\n",
    "from datetime import datetime\n",
    "from sklearn.cluster import KMeans\n",
    "from scipy.stats import norm\n",
    "from scipy.stats import multivariate_normal\n",
    "from scipy.stats import ttest_ind\n",
    "from sklearn.cluster import KMeans\n",
    "import time\n",
    "import os\n",
    "\n",
    "## import self-written packages \n",
    "from adafdr.util import *\n",
    "import adafdr.method as md\n",
    "import adafdr.data_loader as dl\n",
    "\n",
    "%matplotlib inline\n",
    "%load_ext autoreload\n",
    "%autoreload 2"
   ]
  },
  {
   "cell_type": "code",
   "execution_count": 2,
   "metadata": {},
   "outputs": [],
   "source": [
    "data_name = 'Colon_Sigmoid'\n",
    "file_input = '/data3/martin/gtex_data/GTEx_Analysis_v7_eQTL_all_associations/' +\\\n",
    "             '%s.allpairs.txt.processed'%data_name\n",
    "file_output = '/data3/martin/nfdr2_simulation_data/gtex_cluster_data/' +\\\n",
    "             '%s.allpairs.txt.processed'%data_name\n",
    "file_output_small = '/data3/martin/nfdr2_simulation_data/gtex_cluster_data_small/' +\\\n",
    "                    '%s.allpairs.txt.processed'%data_name"
   ]
  },
  {
   "cell_type": "code",
   "execution_count": 12,
   "metadata": {},
   "outputs": [],
   "source": [
    "def preprocess_gtex(x_input):\n",
    "    x = np.copy(x_input)\n",
    "    for i in range(x.shape[1]):\n",
    "        ind_nan = np.isnan(x[:, i])\n",
    "        x[ind_nan, i] = np.mean(x[~ind_nan, i])\n",
    "    x[:, 0] = np.log10(x[:, 0]+0.5)\n",
    "    return x\n",
    "\n",
    "# Pretrain the clustering model\n",
    "n_pretrain = 5000\n",
    "p = np.zeros([n_pretrain])\n",
    "x = np.zeros([n_pretrain, 4])\n",
    "f_input = open(file_input, 'r')\n",
    "for i_line,line in enumerate(f_input):\n",
    "    line = line.strip().split(', ')\n",
    "    x[i_line] = line[1:5]\n",
    "    p[i_line] = line[-1]\n",
    "    if i_line == n_pretrain-1:\n",
    "        break\n",
    "f_input.close()\n",
    "x = preprocess_gtex(x)\n",
    "x_mean = np.mean(x, axis=0)\n",
    "x_std = np.std(x, axis=0)\n",
    "x = (x-x_mean)/x_std\n",
    "kmeans_pretrain = KMeans(n_clusters=20, random_state=0).fit(x)"
   ]
  },
  {
   "cell_type": "code",
   "execution_count": 43,
   "metadata": {},
   "outputs": [
    {
     "data": {
      "text/plain": [
       "True"
      ]
     },
     "execution_count": 43,
     "metadata": {},
     "output_type": "execute_result"
    }
   ],
   "source": [
    "np.random.rand(1)[0]>0.01"
   ]
  },
  {
   "cell_type": "code",
   "execution_count": null,
   "metadata": {},
   "outputs": [],
   "source": []
  },
  {
   "cell_type": "code",
   "execution_count": 40,
   "metadata": {},
   "outputs": [
    {
     "name": "stdout",
     "output_type": "stream",
     "text": [
      "0 ['ENSG00000227232.4-1_13417_C_CGAGA_b37', '14.2', 'nan', '-16136', '5', '25', '0.0160937']\n",
      "1 ['ENSG00000227232.4-1_17559_G_C_b37', '14.2', 'nan', '-11994', '5', '25', '0.0228588']\n",
      "2 ['ENSG00000227232.4-1_54421_A_G_b37', '14.2', 'nan', '24868', '15', '25', '0.387377']\n",
      "3 ['ENSG00000227232.4-1_54490_G_A_b37', '14.2', '0.09605', '24937', '15', '25', '0.603472']\n",
      "4 ['ENSG00000227232.4-1_61920_G_A_b37', '14.2', '0.01158', '32367', '15', '25', '0.642313']\n",
      "5 ['ENSG00000227232.4-1_64649_A_C_b37', '14.2', '0.01038', '35096', '15', '25', '0.649705']\n",
      "6 ['ENSG00000227232.4-1_115746_C_T_b37', '14.2', '0.02756', '86193', '15', '25', '0.00975286']\n",
      "7 ['ENSG00000227232.4-1_133160_G_A_b37', '14.2', 'nan', '103607', '15', '25', '0.442331']\n",
      "8 ['ENSG00000227232.4-1_135203_G_A_b37', '14.2', '0.02796', '105650', '15', '25', '0.0173291']\n",
      "9 ['ENSG00000227232.4-1_230894_TAA_T_b37', '14.2', 'nan', '201341', '15', '25', '0.689686']\n",
      "10 ['ENSG00000227232.4-1_231153_CTT_C_b37', '14.2', 'nan', '201600', '15', '25', '0.617664']\n",
      "11 ['ENSG00000227232.4-1_233473_C_G_b37', '14.2', '0.2091', '203920', '15', '25', '0.356258']\n",
      "ENSG00000227232.4-1_231153_CTT_C_b37, 0.617664, 12\n",
      "\n",
      "ENSG00000227232.4-1_233473_C_G_b37, 0.356258, 12\n",
      "\n"
     ]
    }
   ],
   "source": [
    "# Writing the clustering data\n",
    "f_input = open(file_input, 'r')\n",
    "f_output = open(file_output, 'w')\n",
    "f_output_small = open(file_output_small, 'w')\n",
    "n_batch = 5\n",
    "n_small = 100\n",
    "for i_line,line in enumerate(f_input):\n",
    "    if i_line%n_batch == 0:\n",
    "        if i_line > 0:\n",
    "            x = preprocess_gtex(x)\n",
    "            x = (x-x_mean)/x_std\n",
    "            x_label = kmeans_pretrain.predict(x)\n",
    "            for i_hypothesis in range(len(p_value_list)):\n",
    "                csv_str = '%s, %s, %d\\n'%(cis_name_list[i_hypothesis],\\\n",
    "                                          p_value_list[i_hypothesis],\\\n",
    "                                          x_label[i_hypothesis])\n",
    "                f_output.write(csv_str)\n",
    "                if i_line <= n_small:\n",
    "                    f_output_small.write(csv_str)\n",
    "        cis_name_list = []\n",
    "        p_value_list = []\n",
    "        x = np.zeros([n_batch, 4], dtype=float)\n",
    "    line = line.strip().split(', ')\n",
    "    cis_name_list.append(line[0])\n",
    "    p_value_list.append(line[-1])\n",
    "    x[i_line%n_batch,:] = line[1:5]\n",
    "    print(i_line, line)\n",
    "    if i_line > 10:\n",
    "        break\n",
    "# write the last few hypotheses\n",
    "x = preprocess_gtex(x)\n",
    "x = (x-x_mean)/x_std\n",
    "x_label = kmeans_pretrain.predict(x)\n",
    "for i_hypothesis in range(len(p_value_list)):\n",
    "    csv_str = '%s, %s, %d\\n'%(cis_name_list[i_hypothesis],\\\n",
    "                              p_value_list[i_hypothesis],\\\n",
    "                              x_label[i_hypothesis])\n",
    "    print(csv_str)\n",
    "    f_output.write(csv_str)\n",
    "    \n",
    "f_input.close()\n",
    "f_output.close()\n",
    "f_output_small.close()"
   ]
  },
  {
   "cell_type": "code",
   "execution_count": 36,
   "metadata": {},
   "outputs": [
    {
     "data": {
      "text/plain": [
       "array([12, 12, 12, 12, 12], dtype=int32)"
      ]
     },
     "execution_count": 36,
     "metadata": {},
     "output_type": "execute_result"
    }
   ],
   "source": [
    "x_label"
   ]
  },
  {
   "cell_type": "code",
   "execution_count": null,
   "metadata": {},
   "outputs": [],
   "source": []
  }
 ],
 "metadata": {
  "kernelspec": {
   "display_name": "Python 3",
   "language": "python",
   "name": "python3"
  },
  "language_info": {
   "codemirror_mode": {
    "name": "ipython",
    "version": 3
   },
   "file_extension": ".py",
   "mimetype": "text/x-python",
   "name": "python",
   "nbconvert_exporter": "python",
   "pygments_lexer": "ipython3",
   "version": "3.6.3"
  }
 },
 "nbformat": 4,
 "nbformat_minor": 2
}
