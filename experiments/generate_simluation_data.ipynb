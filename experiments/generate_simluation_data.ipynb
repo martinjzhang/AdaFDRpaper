{
 "cells": [
  {
   "cell_type": "code",
   "execution_count": 1,
   "metadata": {},
   "outputs": [],
   "source": [
    "## import public packages\n",
    "import numpy as np\n",
    "import matplotlib.pyplot as plt\n",
    "from datetime import datetime\n",
    "from sklearn.cluster import KMeans\n",
    "from scipy.stats import norm\n",
    "from scipy.stats import multivariate_normal\n",
    "from scipy.stats import ttest_ind\n",
    "import time\n",
    "import os\n",
    "\n",
    "## import self-written packages \n",
    "from nfdr2.util import *\n",
    "import nfdr2.method as md\n",
    "import nfdr2.data_loader as dl\n",
    "\n",
    "%matplotlib inline\n",
    "%load_ext autoreload\n",
    "%autoreload 2"
   ]
  },
  {
   "cell_type": "markdown",
   "metadata": {},
   "source": [
    "# 1d_bump_slope"
   ]
  },
  {
   "cell_type": "code",
   "execution_count": 190,
   "metadata": {},
   "outputs": [
    {
     "name": "stdout",
     "output_type": "stream",
     "text": [
      "/data3/martin/nfdr2_simulation_data/simu_1d_bump_slope/data_0\n",
      "/data3/martin/nfdr2_simulation_data/simu_1d_bump_slope/data_1\n",
      "/data3/martin/nfdr2_simulation_data/simu_1d_bump_slope/data_2\n",
      "/data3/martin/nfdr2_simulation_data/simu_1d_bump_slope/data_3\n",
      "/data3/martin/nfdr2_simulation_data/simu_1d_bump_slope/data_4\n",
      "/data3/martin/nfdr2_simulation_data/simu_1d_bump_slope/data_5\n",
      "/data3/martin/nfdr2_simulation_data/simu_1d_bump_slope/data_6\n",
      "/data3/martin/nfdr2_simulation_data/simu_1d_bump_slope/data_7\n",
      "/data3/martin/nfdr2_simulation_data/simu_1d_bump_slope/data_8\n",
      "/data3/martin/nfdr2_simulation_data/simu_1d_bump_slope/data_9\n"
     ]
    }
   ],
   "source": [
    "for rs in range(10):\n",
    "    filename = '/data3/martin/nfdr2_simulation_data/simu_1d_bump_slope/data_' + str(rs)\n",
    "    print((filename))\n",
    "    p, x, h, n_full, cate_name = dl.load_1d_bump_slope(n_sample=20000,\\\n",
    "                                                       n_dim=1,random_state=rs)\n",
    "    dl.write_simulation_data(p, x, h, filename)"
   ]
  },
  {
   "cell_type": "markdown",
   "metadata": {},
   "source": [
    "# 2d_bump_slope"
   ]
  },
  {
   "cell_type": "code",
   "execution_count": 188,
   "metadata": {},
   "outputs": [
    {
     "name": "stdout",
     "output_type": "stream",
     "text": [
      "/data3/martin/nfdr2_simulation_data/simu_2d_bump_slope/data_0\n",
      "/data3/martin/nfdr2_simulation_data/simu_2d_bump_slope/data_1\n",
      "/data3/martin/nfdr2_simulation_data/simu_2d_bump_slope/data_2\n",
      "/data3/martin/nfdr2_simulation_data/simu_2d_bump_slope/data_3\n",
      "/data3/martin/nfdr2_simulation_data/simu_2d_bump_slope/data_4\n",
      "/data3/martin/nfdr2_simulation_data/simu_2d_bump_slope/data_5\n",
      "/data3/martin/nfdr2_simulation_data/simu_2d_bump_slope/data_6\n",
      "/data3/martin/nfdr2_simulation_data/simu_2d_bump_slope/data_7\n",
      "/data3/martin/nfdr2_simulation_data/simu_2d_bump_slope/data_8\n",
      "/data3/martin/nfdr2_simulation_data/simu_2d_bump_slope/data_9\n"
     ]
    }
   ],
   "source": [
    "for rs in range(10):\n",
    "    filename = '/data3/martin/nfdr2_simulation_data/simu_2d_bump_slope/data_' + str(rs)\n",
    "    print((filename))\n",
    "    p, x, h, n_full, cate_name = dl.load_2d_bump_slope(n_sample=20000,\\\n",
    "                                                       n_dim=2,random_state=rs)\n",
    "    dl.write_simulation_data(p, x, h, filename)"
   ]
  },
  {
   "cell_type": "markdown",
   "metadata": {},
   "source": [
    "# 10d_bump_slope"
   ]
  },
  {
   "cell_type": "code",
   "execution_count": 189,
   "metadata": {},
   "outputs": [
    {
     "name": "stdout",
     "output_type": "stream",
     "text": [
      "/data3/martin/nfdr2_simulation_data/simu_10d_bump_slope/data_0\n",
      "/data3/martin/nfdr2_simulation_data/simu_10d_bump_slope/data_1\n",
      "/data3/martin/nfdr2_simulation_data/simu_10d_bump_slope/data_2\n",
      "/data3/martin/nfdr2_simulation_data/simu_10d_bump_slope/data_3\n",
      "/data3/martin/nfdr2_simulation_data/simu_10d_bump_slope/data_4\n",
      "/data3/martin/nfdr2_simulation_data/simu_10d_bump_slope/data_5\n",
      "/data3/martin/nfdr2_simulation_data/simu_10d_bump_slope/data_6\n",
      "/data3/martin/nfdr2_simulation_data/simu_10d_bump_slope/data_7\n",
      "/data3/martin/nfdr2_simulation_data/simu_10d_bump_slope/data_8\n",
      "/data3/martin/nfdr2_simulation_data/simu_10d_bump_slope/data_9\n"
     ]
    }
   ],
   "source": [
    "for rs in range(10):\n",
    "    filename = '/data3/martin/nfdr2_simulation_data/simu_10d_bump_slope/data_' + str(rs)\n",
    "    print((filename))\n",
    "    p, x, h, n_full, cate_name = dl.load_2d_bump_slope(n_sample=20000,\\\n",
    "                                                       n_dim=10,random_state=rs)\n",
    "    dl.write_simulation_data(p, x, h, filename)"
   ]
  },
  {
   "cell_type": "markdown",
   "metadata": {},
   "source": [
    "# speed benchmark"
   ]
  },
  {
   "cell_type": "code",
   "execution_count": 14,
   "metadata": {
    "collapsed": true
   },
   "outputs": [
    {
     "name": "stdout",
     "output_type": "stream",
     "text": [
      "/data3/martin/nfdr2_simulation_data/simu_speed_dim/data_2_0\n",
      "/data3/martin/nfdr2_simulation_data/simu_speed_dim/data_2_1\n",
      "/data3/martin/nfdr2_simulation_data/simu_speed_dim/data_2_2\n",
      "/data3/martin/nfdr2_simulation_data/simu_speed_dim/data_2_3\n",
      "/data3/martin/nfdr2_simulation_data/simu_speed_dim/data_2_4\n",
      "/data3/martin/nfdr2_simulation_data/simu_speed_dim/data_4_0\n",
      "/data3/martin/nfdr2_simulation_data/simu_speed_dim/data_4_1\n",
      "/data3/martin/nfdr2_simulation_data/simu_speed_dim/data_4_2\n",
      "/data3/martin/nfdr2_simulation_data/simu_speed_dim/data_4_3\n",
      "/data3/martin/nfdr2_simulation_data/simu_speed_dim/data_4_4\n",
      "/data3/martin/nfdr2_simulation_data/simu_speed_dim/data_6_0\n",
      "/data3/martin/nfdr2_simulation_data/simu_speed_dim/data_6_1\n",
      "/data3/martin/nfdr2_simulation_data/simu_speed_dim/data_6_2\n",
      "/data3/martin/nfdr2_simulation_data/simu_speed_dim/data_6_3\n",
      "/data3/martin/nfdr2_simulation_data/simu_speed_dim/data_6_4\n",
      "/data3/martin/nfdr2_simulation_data/simu_speed_dim/data_8_0\n",
      "/data3/martin/nfdr2_simulation_data/simu_speed_dim/data_8_1\n",
      "/data3/martin/nfdr2_simulation_data/simu_speed_dim/data_8_2\n",
      "/data3/martin/nfdr2_simulation_data/simu_speed_dim/data_8_3\n",
      "/data3/martin/nfdr2_simulation_data/simu_speed_dim/data_8_4\n"
     ]
    }
   ],
   "source": [
    "for n_dim in [2, 4, 6, 8]:\n",
    "    for i_rep in range(5):\n",
    "        data_name = 'data_%d_%d'%(n_dim, i_rep)\n",
    "        filename = '/data3/martin/nfdr2_simulation_data/simu_speed_dim/' +\\\n",
    "                    data_name\n",
    "        print(filename)\n",
    "        p, x, h, n_full, cate_name = dl.load_2d_bump_slope(n_sample=50000,\\\n",
    "                                                           n_dim=n_dim,\\\n",
    "                                                           random_state=i_rep)\n",
    "        dl.write_simulation_data(p, x, h, filename)"
   ]
  },
  {
   "cell_type": "code",
   "execution_count": 15,
   "metadata": {
    "collapsed": true
   },
   "outputs": [
    {
     "name": "stdout",
     "output_type": "stream",
     "text": [
      "/data3/martin/nfdr2_simulation_data/simu_speed_sample/data_20000_0\n",
      "/data3/martin/nfdr2_simulation_data/simu_speed_sample/data_20000_1\n",
      "/data3/martin/nfdr2_simulation_data/simu_speed_sample/data_20000_2\n",
      "/data3/martin/nfdr2_simulation_data/simu_speed_sample/data_20000_3\n",
      "/data3/martin/nfdr2_simulation_data/simu_speed_sample/data_20000_4\n",
      "/data3/martin/nfdr2_simulation_data/simu_speed_sample/data_50000_0\n",
      "/data3/martin/nfdr2_simulation_data/simu_speed_sample/data_50000_1\n",
      "/data3/martin/nfdr2_simulation_data/simu_speed_sample/data_50000_2\n",
      "/data3/martin/nfdr2_simulation_data/simu_speed_sample/data_50000_3\n",
      "/data3/martin/nfdr2_simulation_data/simu_speed_sample/data_50000_4\n",
      "/data3/martin/nfdr2_simulation_data/simu_speed_sample/data_100000_0\n",
      "/data3/martin/nfdr2_simulation_data/simu_speed_sample/data_100000_1\n",
      "/data3/martin/nfdr2_simulation_data/simu_speed_sample/data_100000_2\n",
      "/data3/martin/nfdr2_simulation_data/simu_speed_sample/data_100000_3\n",
      "/data3/martin/nfdr2_simulation_data/simu_speed_sample/data_100000_4\n"
     ]
    }
   ],
   "source": [
    "for n_sample in [20000, 50000, 100000]:\n",
    "    for i_rep in range(5):\n",
    "        data_name = 'data_%d_%d'%(n_sample, i_rep)\n",
    "        filename = '/data3/martin/nfdr2_simulation_data/simu_speed_sample/' +\\\n",
    "                    data_name\n",
    "        print(filename)\n",
    "        p, x, h, n_full, cate_name = dl.load_2d_bump_slope(n_sample=n_sample,\\\n",
    "                                                           n_dim=4,\\\n",
    "                                                           random_state=i_rep)\n",
    "        dl.write_simulation_data(p, x, h, filename)"
   ]
  },
  {
   "cell_type": "markdown",
   "metadata": {},
   "source": [
    "# Data weakly dependent"
   ]
  },
  {
   "cell_type": "code",
   "execution_count": 191,
   "metadata": {},
   "outputs": [
    {
     "name": "stdout",
     "output_type": "stream",
     "text": [
      "/data3/martin/nfdr2_simulation_data/simu_data_wd/data_0\n",
      "/data3/martin/nfdr2_simulation_data/simu_data_wd/data_1\n",
      "/data3/martin/nfdr2_simulation_data/simu_data_wd/data_2\n",
      "/data3/martin/nfdr2_simulation_data/simu_data_wd/data_3\n",
      "/data3/martin/nfdr2_simulation_data/simu_data_wd/data_4\n",
      "/data3/martin/nfdr2_simulation_data/simu_data_wd/data_5\n",
      "/data3/martin/nfdr2_simulation_data/simu_data_wd/data_6\n",
      "/data3/martin/nfdr2_simulation_data/simu_data_wd/data_7\n",
      "/data3/martin/nfdr2_simulation_data/simu_data_wd/data_8\n",
      "/data3/martin/nfdr2_simulation_data/simu_data_wd/data_9\n"
     ]
    }
   ],
   "source": [
    "for rs in range(10):\n",
    "    filename = '/data3/martin/nfdr2_simulation_data/simu_data_wd/data_' + str(rs)\n",
    "    print((filename))\n",
    "    p, x, h = dl.load_data_wd(n_sample=20000, random_state=rs)\n",
    "    dl.write_simulation_data(p, x, h, filename)"
   ]
  },
  {
   "cell_type": "markdown",
   "metadata": {},
   "source": [
    "# Data strongly dependent "
   ]
  },
  {
   "cell_type": "code",
   "execution_count": 2,
   "metadata": {},
   "outputs": [
    {
     "name": "stdout",
     "output_type": "stream",
     "text": [
      "/data3/martin/nfdr2_simulation_data/simu_data_sd/data_0\n",
      "/data3/martin/nfdr2_simulation_data/simu_data_sd/data_1\n",
      "/data3/martin/nfdr2_simulation_data/simu_data_sd/data_2\n",
      "/data3/martin/nfdr2_simulation_data/simu_data_sd/data_3\n",
      "/data3/martin/nfdr2_simulation_data/simu_data_sd/data_4\n",
      "/data3/martin/nfdr2_simulation_data/simu_data_sd/data_5\n",
      "/data3/martin/nfdr2_simulation_data/simu_data_sd/data_6\n",
      "/data3/martin/nfdr2_simulation_data/simu_data_sd/data_7\n",
      "/data3/martin/nfdr2_simulation_data/simu_data_sd/data_8\n",
      "/data3/martin/nfdr2_simulation_data/simu_data_sd/data_9\n"
     ]
    }
   ],
   "source": [
    "for rs in range(10):\n",
    "    filename = '/data3/martin/nfdr2_simulation_data/simu_data_sd/data_' + str(rs)\n",
    "    print((filename))\n",
    "    p, x, h = dl.load_data_sd(n_sample=50000, random_state=rs)\n",
    "    dl.write_simulation_data(p, x, h, filename)"
   ]
  },
  {
   "cell_type": "markdown",
   "metadata": {},
   "source": [
    "# Data_IHW"
   ]
  },
  {
   "cell_type": "code",
   "execution_count": 192,
   "metadata": {},
   "outputs": [
    {
     "name": "stdout",
     "output_type": "stream",
     "text": [
      "/data3/martin/nfdr2_simulation_data/simu_data_ihw/data_0\n",
      "/data3/martin/nfdr2_simulation_data/simu_data_ihw/data_1\n",
      "/data3/martin/nfdr2_simulation_data/simu_data_ihw/data_2\n",
      "/data3/martin/nfdr2_simulation_data/simu_data_ihw/data_3\n",
      "/data3/martin/nfdr2_simulation_data/simu_data_ihw/data_4\n",
      "/data3/martin/nfdr2_simulation_data/simu_data_ihw/data_5\n",
      "/data3/martin/nfdr2_simulation_data/simu_data_ihw/data_6\n",
      "/data3/martin/nfdr2_simulation_data/simu_data_ihw/data_7\n",
      "/data3/martin/nfdr2_simulation_data/simu_data_ihw/data_8\n",
      "/data3/martin/nfdr2_simulation_data/simu_data_ihw/data_9\n"
     ]
    }
   ],
   "source": [
    "for rs in range(10):\n",
    "    filename = '/data3/martin/nfdr2_simulation_data/simu_data_ihw/data_' + str(rs)\n",
    "    print((filename))\n",
    "    p, x, h = dl.load_data_ihw(random_state=rs)\n",
    "    dl.write_simulation_data(p, x, h, filename)"
   ]
  },
  {
   "cell_type": "markdown",
   "metadata": {},
   "source": [
    "# Data airway"
   ]
  },
  {
   "cell_type": "code",
   "execution_count": 21,
   "metadata": {},
   "outputs": [],
   "source": [
    "filename = '/data3/martin/nfdr2_simulation_data/airway/data_0'\n",
    "p, h, x = dl.load_airway()\n",
    "h = np.zeros([p.shape[0]])\n",
    "dl.write_simulation_data(p, x, h, filename)"
   ]
  },
  {
   "cell_type": "code",
   "execution_count": null,
   "metadata": {},
   "outputs": [],
   "source": []
  },
  {
   "cell_type": "markdown",
   "metadata": {},
   "source": [
    "# Debug"
   ]
  },
  {
   "cell_type": "code",
   "execution_count": 129,
   "metadata": {},
   "outputs": [],
   "source": [
    "filename = '/data3/martin/nfdr2_simulation_data/simu_data_ihw/data_8'\n",
    "p, x, h = dl.load_simulation_data(filename)"
   ]
  },
  {
   "cell_type": "code",
   "execution_count": 138,
   "metadata": {},
   "outputs": [
    {
     "name": "stdout",
     "output_type": "stream",
     "text": [
      "## method_single_fold_wrapper_1\n",
      "# Num of discovery: 0\n",
      "\n",
      "## method_single_fold_wrapper_2\n",
      "# Num of discovery: 0\n",
      "\n"
     ]
    }
   ],
   "source": [
    "n_rej,t_rej,_= md.method_hs(p, x, K=5, alpha=0.1, h=h, n_full=n_full, n_itr=1500,\\\n",
    "                            verbose=False, output_folder='./results', random_state=0,\\\n",
    "                            fast_mode=True)"
   ]
  },
  {
   "cell_type": "code",
   "execution_count": 125,
   "metadata": {},
   "outputs": [
    {
     "data": {
      "image/png": "[encoded data removed]",
      "text/plain": [
       "<Figure size 432x288 with 1 Axes>"
      ]
     },
     "metadata": {},
     "output_type": "display_data"
    }
   ],
   "source": [
    "plt.figure()\n",
    "plt.hist(p[p<0.1], bins=20)\n",
    "plt.show()"
   ]
  },
  {
   "cell_type": "code",
   "execution_count": 167,
   "metadata": {},
   "outputs": [],
   "source": []
  },
  {
   "cell_type": "code",
   "execution_count": 173,
   "metadata": {},
   "outputs": [],
   "source": [
    "p, x, h = dl.load_data_wd()"
   ]
  },
  {
   "cell_type": "code",
   "execution_count": 174,
   "metadata": {},
   "outputs": [
    {
     "data": {
      "image/png": "[encoded data removed]",
      "text/plain": [
       "<Figure size 432x288 with 1 Axes>"
      ]
     },
     "metadata": {},
     "output_type": "display_data"
    }
   ],
   "source": [
    "plt.figure()\n",
    "plt.hist(p[p<0.1], bins=20)\n",
    "plt.show()"
   ]
  },
  {
   "cell_type": "code",
   "execution_count": 166,
   "metadata": {},
   "outputs": [
    {
     "data": {
      "text/plain": [
       "(1000,)"
      ]
     },
     "execution_count": 166,
     "metadata": {},
     "output_type": "execute_result"
    }
   ],
   "source": [
    "temp.shape"
   ]
  },
  {
   "cell_type": "code",
   "execution_count": null,
   "metadata": {},
   "outputs": [],
   "source": []
  },
  {
   "cell_type": "code",
   "execution_count": 83,
   "metadata": {},
   "outputs": [],
   "source": [
    "filename = '/data3/martin/nfdr2_simulation_data/data_adapt/data_8'\n",
    "p, x, h = dl.load_simulation_data(filename)\n",
    "n_full = p.shape[0]"
   ]
  },
  {
   "cell_type": "code",
   "execution_count": 126,
   "metadata": {},
   "outputs": [],
   "source": [
    "n_rej, t_rej = md.bh(p, alpha=0.2, n_full=n_full, verbose=False)"
   ]
  },
  {
   "cell_type": "code",
   "execution_count": 127,
   "metadata": {},
   "outputs": [
    {
     "data": {
      "text/plain": [
       "44"
      ]
     },
     "execution_count": 127,
     "metadata": {},
     "output_type": "execute_result"
    }
   ],
   "source": [
    "n_rej"
   ]
  },
  {
   "cell_type": "code",
   "execution_count": null,
   "metadata": {},
   "outputs": [],
   "source": []
  },
  {
   "cell_type": "code",
   "execution_count": 85,
   "metadata": {},
   "outputs": [
    {
     "name": "stdout",
     "output_type": "stream",
     "text": [
      "## method_single_fold_wrapper_2\n",
      "# Num of discovery: 36\n",
      "\n",
      "## method_single_fold_wrapper_1\n",
      "# Num of discovery: 26\n",
      "\n"
     ]
    }
   ],
   "source": [
    "n_rej,t_rej,_= md.method_hs(p, x, K=5, alpha=0.1, h=h, n_full=n_full, n_itr=1500,\\\n",
    "                            verbose=False, output_folder='./results', random_state=0,\\\n",
    "                            fast_mode=True)"
   ]
  },
  {
   "cell_type": "code",
   "execution_count": 75,
   "metadata": {},
   "outputs": [],
   "source": [
    "file_list = os.listdir('/data3/martin/nfdr2_simulation_data/data_adapt/')"
   ]
  },
  {
   "cell_type": "code",
   "execution_count": 77,
   "metadata": {},
   "outputs": [
    {
     "name": "stdout",
     "output_type": "stream",
     "text": [
      ".DS_Store\n"
     ]
    }
   ],
   "source": [
    "for file in file_list:\n",
    "    if file[0] == '.':\n",
    "        print(file)"
   ]
  },
  {
   "cell_type": "code",
   "execution_count": 61,
   "metadata": {},
   "outputs": [
    {
     "data": {
      "image/png": "[encoded data removed]",
      "text/plain": [
       "<Figure size 432x288 with 1 Axes>"
      ]
     },
     "metadata": {},
     "output_type": "display_data"
    }
   ],
   "source": [
    "plt.figure()\n",
    "plt.hist(p, bins=100)\n",
    "plt.show()"
   ]
  },
  {
   "cell_type": "code",
   "execution_count": null,
   "metadata": {},
   "outputs": [],
   "source": []
  }
 ],
 "metadata": {
  "kernelspec": {
   "display_name": "Python 3",
   "language": "python",
   "name": "python3"
  },
  "language_info": {
   "codemirror_mode": {
    "name": "ipython",
    "version": 3
   },
   "file_extension": ".py",
   "mimetype": "text/x-python",
   "name": "python",
   "nbconvert_exporter": "python",
   "pygments_lexer": "ipython3",
   "version": "3.6.3"
  }
 },
 "nbformat": 4,
 "nbformat_minor": 2
}
