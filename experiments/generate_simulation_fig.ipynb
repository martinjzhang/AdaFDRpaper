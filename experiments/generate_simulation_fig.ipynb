{
 "cells": [
  {
   "cell_type": "code",
   "execution_count": 1,
   "metadata": {},
   "outputs": [],
   "source": [
    "## import public packages\n",
    "import numpy as np\n",
    "import pandas as pd\n",
    "import matplotlib.pyplot as plt\n",
    "from datetime import datetime\n",
    "from sklearn.cluster import KMeans\n",
    "from scipy.stats import norm\n",
    "from scipy.stats import multivariate_normal\n",
    "import time\n",
    "import pickle\n",
    "import os\n",
    "\n",
    "## import self-written packages \n",
    "from adafdr.util import *\n",
    "import adafdr.method as md\n",
    "import adafdr.data_loader as dl\n",
    "\n",
    "%matplotlib inline\n",
    "%load_ext autoreload\n",
    "%autoreload 2"
   ]
  },
  {
   "cell_type": "code",
   "execution_count": 29,
   "metadata": {},
   "outputs": [],
   "source": [
    "plot_list = [\n",
    "    {'data_name': 'simu_data_adapt',\n",
    "    'filename': \n",
    "     '/home/martin/NeuralFDR2/result_simulation/result_simu_data_adapt/result_dic.pickle',\n",
    "    'folder_r': '/home/martin/NeuralFDR2/result_simulation/res_R_data_adapt',\n",
    "    'folder_r_bl': '/home/martin/NeuralFDR2/result_simulation/res_R_data_adapt_bl'},\n",
    "    {'data_name': 'simu_data_ihw',\n",
    "    'filename': \n",
    "     '/home/martin/NeuralFDR2/result_simulation/result_simu_data_ihw/result_dic.pickle',\n",
    "    'folder_r': '/home/martin/NeuralFDR2/result_simulation/res_R_simu_data_ihw',\n",
    "    'folder_r_bl': '/home/martin/NeuralFDR2/result_simulation/res_R_simu_data_ihw_bl'},\n",
    "    {'data_name': 'simu_data_wd',\n",
    "    'filename': \n",
    "     '/home/martin/NeuralFDR2/result_simulation/result_simu_data_wd/result_dic.pickle',\n",
    "    'folder_r': '/home/martin/NeuralFDR2/result_simulation/res_R_simu_data_wd',\n",
    "    'folder_r_bl': '/home/martin/NeuralFDR2/result_simulation/res_R_simu_data_wd_bl'},\n",
    "    {'data_name': 'simu_data_sd',\n",
    "    'filename': \n",
    "     '/home/martin/NeuralFDR2/result_simulation/result_simu_data_sd/result_dic.pickle',\n",
    "    'folder_r': '/home/martin/NeuralFDR2/result_simulation/res_R_simu_data_sd',\n",
    "    'folder_r_bl': '/home/martin/NeuralFDR2/result_simulation/res_R_simu_data_sd_bl'},\n",
    "    {'data_name': 'simu_1d_bump_slope',\n",
    "    'filename': \n",
    "     '/home/martin/NeuralFDR2/result_simulation/result_simu_1d_bump_slope/result_dic.pickle',\n",
    "    'folder_r': '/home/martin/NeuralFDR2/result_simulation/res_R_simu_1d_bump_slope',\n",
    "    'folder_r_bl': '/home/martin/NeuralFDR2/result_simulation/res_R_simu_1d_bump_slope_bl'},\n",
    "    {'data_name': 'simu_2d_bump_slope',\n",
    "    'filename': \n",
    "     '/home/martin/NeuralFDR2/result_simulation/result_simu_2d_bump_slope/result_dic.pickle',\n",
    "    'folder_r': '/home/martin/NeuralFDR2/result_simulation/res_R_simu_2d_bump_slope',\n",
    "    'folder_r_bl': '/home/martin/NeuralFDR2/result_simulation/res_R_simu_2d_bump_slope_bl'},\n",
    "    {'data_name': 'simu_10d_bump_slope',\n",
    "    'filename': \n",
    "     '/home/martin/NeuralFDR2/result_simulation/result_simu_10d_bump_slope/result_dic.pickle',\n",
    "    'folder_r': '/home/martin/NeuralFDR2/result_simulation/res_R_simu_10d_bump_slope',\n",
    "    'folder_r_bl': '/home/martin/NeuralFDR2/result_simulation/res_R_simu_10d_bump_slope_bl'}\n",
    "]"
   ]
  },
  {
   "cell_type": "code",
   "execution_count": 3,
   "metadata": {},
   "outputs": [],
   "source": [
    "plot_list = [\n",
    "    {'data_name': 'simu_data_adapt',\n",
    "    'filename': \n",
    "     '/home/martin/NeuralFDR2/result_simulation/result_simu_data_adapt/result_dic.pickle',\n",
    "    'folder_r': '/home/martin/NeuralFDR2/result_simulation/res_R_data_adapt',\n",
    "    'folder_r_bl': '/home/martin/NeuralFDR2/result_simulation/res_R_data_adapt_bl'}\n",
    "]"
   ]
  },
  {
   "cell_type": "code",
   "execution_count": 30,
   "metadata": {},
   "outputs": [
    {
     "name": "stdout",
     "output_type": "stream",
     "text": [
      "simu_data_adapt\n",
      "simu_data_ihw\n",
      "simu_data_wd\n",
      "simu_data_sd\n",
      "simu_1d_bump_slope\n",
      "simu_2d_bump_slope\n",
      "simu_10d_bump_slope\n"
     ]
    }
   ],
   "source": [
    "method_mapping_dic = {'nfdr (fast)': 'AdaFDR (fast)',\n",
    "                      'nfdr': 'AdaFDR',\n",
    "                      'ihw': 'IHW',\n",
    "                      'adapt': 'AdaPT',\n",
    "                      'bl': 'BL',\n",
    "                      'bh': 'BH',\n",
    "                      'sbh': 'SBH'}\n",
    "output_folder = '/home/martin/NeuralFDR2/figures/fig_simulation/'\n",
    "# output_folder = None\n",
    "for config in plot_list:\n",
    "    data_name = config['data_name']\n",
    "    res_py = config['filename']\n",
    "    res_r = config['folder_r']\n",
    "    folder_r_bl = config['folder_r_bl']\n",
    "    print(data_name)\n",
    "    summary_stats, time_dic = get_summary_stats(filename=res_py, folder_r=res_r,\n",
    "                                                       folder_r_bl = folder_r_bl)\n",
    "    plot_size_power(summary_stats, method_mapping_dic,\\\n",
    "                    data_name=data_name, output_folder = output_folder)\n",
    "#     for method in method_list:\n",
    "#         temp_power = summary_stats[method]['Power'].mean(axis=0)\n",
    "#         temp_power = ''.join(['%0.4f, '%x for x in temp_power])\n",
    "#         temp_FDP = summary_stats[method]['FDP'].mean(axis=0)\n",
    "#         temp_FDP = ''.join(['%0.4f, '%x for x in temp_FDP])\n",
    "#         print('%s, ,%s, %s'%(method_mapping_dic[method], temp_power, temp_FDP))"
   ]
  },
  {
   "cell_type": "markdown",
   "metadata": {},
   "source": [
    "# Speed"
   ]
  },
  {
   "cell_type": "code",
   "execution_count": 31,
   "metadata": {},
   "outputs": [
    {
     "data": {
      "image/png": "[encoded data removed]",
      "text/plain": [
       "<Figure size 360x288 with 1 Axes>"
      ]
     },
     "metadata": {},
     "output_type": "display_data"
    }
   ],
   "source": [
    "res_py = '/home/martin/NeuralFDR2/result_simulation/result_simu_speed_dim/result_dic.pickle'\n",
    "res_r = '/home/martin/NeuralFDR2/result_simulation/res_R_simu_speed_dim/time_rec'\n",
    "res_r_bl = '/home/martin/NeuralFDR2/result_simulation/res_R_simu_speed_dim_bl/time_rec'\n",
    "marker_list = ['^', 'v', '*', 'p', 'o']\n",
    "color_list = ['C3', 'C2', 'C0', 'C4', 'C1']\n",
    "# read data\n",
    "fil = open(res_py, 'rb')\n",
    "result_dic = pickle.load(fil)\n",
    "time_dic_py = pickle.load(fil)\n",
    "fil.close()\n",
    "temp_data = np.loadtxt(res_r, dtype=str, skiprows=1)\n",
    "temp_data_bl = np.loadtxt(res_r_bl, dtype=str, skiprows=1)\n",
    "method_list = ['adapt', 'nfdr', 'ihw', 'bl', 'nfdr (fast)']\n",
    "method_mapping_dic = {'nfdr (fast)': 'AdaFDR (fast)',\\\n",
    "                      'nfdr': 'AdaFDR',\\\n",
    "                      'ihw': 'IHW',\\\n",
    "                      'adapt': 'AdaPT',\\\n",
    "                      'bl':'BL',\n",
    "                      'bh': 'BH',\\\n",
    "                      'sbh': 'SBH'}\n",
    "time_dic = {}\n",
    "for method in method_list:\n",
    "    time_dic[method] = np.zeros([5, 4], dtype=float)\n",
    "# nfdr and the fast version\n",
    "for data_name in time_dic_py['nfdr'][0.1]:\n",
    "    temp = data_name.split('_')\n",
    "    time_dic['nfdr'][int(temp[2]), int(int(temp[1])/2-1)] = \\\n",
    "        time_dic_py['nfdr'][0.1][data_name]\n",
    "for data_name in time_dic_py['nfdr (fast)'][0.1]:\n",
    "    temp = data_name.split('_')\n",
    "    time_dic['nfdr (fast)'][int(temp[2]), int(int(temp[1])/2-1)] = \\\n",
    "        time_dic_py['nfdr (fast)'][0.1][data_name]\n",
    "#  adapt and ihw\n",
    "for data_name in temp_data:\n",
    "    data_name, time_adapt, time_ihw = data_name.split(',')\n",
    "    temp = data_name.replace('\"', '').split('_')\n",
    "    time_dic['adapt'][int(temp[2]), int(int(temp[1])/2-1)] = time_adapt\n",
    "    time_dic['ihw'][int(temp[2]), int(int(temp[1])/2-1)] = time_ihw\n",
    "#  bl\n",
    "for data_name in temp_data_bl:\n",
    "    data_name, time_bl = data_name.split(',')\n",
    "    temp = data_name.replace('\"', '').split('_')\n",
    "    time_dic['bl'][int(temp[2]), int(int(temp[1])/2-1)] = time_bl\n",
    "# plot the figure\n",
    "axes = plt.figure(figsize = [5, 4])\n",
    "n_data = 5\n",
    "for i_method,method in enumerate(method_list):    \n",
    "    y_val = np.mean(time_dic[method], axis=0)\n",
    "    temp_err = np.std(time_dic[method], axis=0) / np.sqrt(n_data) * 1.96\n",
    "    y_err = np.zeros([2, 4], dtype=float)\n",
    "    y_err[0, :] = np.log10(y_val) - np.log10(y_val - temp_err) \n",
    "    y_err[1, :] = np.log10(y_val + temp_err) - np.log10(y_val)\n",
    "    plt.errorbar([2, 4, 6, 8], np.log10(y_val), yerr=y_err,\\\n",
    "                 label=method_mapping_dic[method],\\\n",
    "                 capsize=4, elinewidth = 1.5, linewidth=1.5,\\\n",
    "                 color = color_list[i_method], marker = marker_list[i_method],\\\n",
    "                 markersize = 6, alpha=0.8)\n",
    "plt.legend(loc=2, fontsize=12)\n",
    "plt.ylabel('log10 time (sec)', fontsize=16)\n",
    "plt.xlabel('dimension', fontsize=16)\n",
    "plt.yticks([1, 2, 3, 4], ['1e1', '1e2', '1e3', '1e4'])\n",
    "plt.tight_layout()\n",
    "plt.savefig(output_folder+'speed_dim.png')\n",
    "plt.savefig(output_folder+'speed_dim.pdf')\n",
    "plt.show()"
   ]
  },
  {
   "cell_type": "code",
   "execution_count": 34,
   "metadata": {},
   "outputs": [
    {
     "data": {
      "image/png": "[encoded data removed]",
      "text/plain": [
       "<Figure size 360x288 with 1 Axes>"
      ]
     },
     "metadata": {},
     "output_type": "display_data"
    }
   ],
   "source": [
    "res_py = '/home/martin/NeuralFDR2/result_simulation/result_simu_speed_sample/result_dic.pickle'\n",
    "res_r = '/home/martin/NeuralFDR2/result_simulation/res_R_simu_speed_sample/time_rec'\n",
    "res_r_bl = '/home/martin/NeuralFDR2/result_simulation/res_R_simu_speed_sample_bl/time_rec'\n",
    "marker_list = ['^', 'v', '*', 'p', 'o']\n",
    "color_list = ['C3', 'C2', 'C0', 'C4', 'C1']\n",
    "# marker_list = ['^', '*', 'h', 'd']\n",
    "# marker_list = ['^', 'v', '*', 'o']\n",
    "# color_list = ['C1', 'C2', 'C3', 'C0']\n",
    "# color_list = ['C3', 'C2', 'C0', 'C1']\n",
    "# read data\n",
    "fil = open(res_py, 'rb')\n",
    "result_dic = pickle.load(fil)\n",
    "time_dic_py = pickle.load(fil)\n",
    "fil.close()\n",
    "temp_data = np.loadtxt(res_r, dtype=str, skiprows=1)\n",
    "temp_data_bl = np.loadtxt(res_r_bl, dtype=str, skiprows=1)\n",
    "# \n",
    "# method_list = ['nfdr (fast)', 'nfdr', 'adapt', 'ihw']\n",
    "method_list = ['adapt', 'nfdr', 'ihw', 'bl', 'nfdr (fast)']\n",
    "method_mapping_dic = {'nfdr (fast)': 'AdaFDR (fast)',\\\n",
    "                      'nfdr': 'AdaFDR',\\\n",
    "                      'ihw': 'IHW',\\\n",
    "                      'adapt': 'AdaPT',\\\n",
    "                      'bl': 'BL',\n",
    "                      'bh': 'BH',\\\n",
    "                      'sbh': 'SBH'}\n",
    "time_dic = {}\n",
    "for method in method_list:\n",
    "    time_dic[method] = np.zeros([5, 3], dtype=float)\n",
    "sample_dic = {'20000': 0, '50000': 1, '100000': 2}\n",
    "# nfdr and the fast version\n",
    "for data_name in time_dic_py['nfdr'][0.1]:\n",
    "    temp = data_name.split('_')\n",
    "    time_dic['nfdr'][int(temp[2]), sample_dic[temp[1]]] = \\\n",
    "        time_dic_py['nfdr'][0.1][data_name]\n",
    "for data_name in time_dic_py['nfdr (fast)'][0.1]:\n",
    "    temp = data_name.split('_')\n",
    "    time_dic['nfdr (fast)'][int(temp[2]), sample_dic[temp[1]]] = \\\n",
    "        time_dic_py['nfdr (fast)'][0.1][data_name]\n",
    "#  adapt and ihw\n",
    "for data_name in temp_data:\n",
    "    data_name, time_adapt, time_ihw = data_name.split(',')\n",
    "    temp = data_name.replace('\"', '').split('_')\n",
    "    time_dic['adapt'][int(temp[2]), sample_dic[temp[1]]]= time_adapt\n",
    "    time_dic['ihw'][int(temp[2]), sample_dic[temp[1]]] = time_ihw\n",
    "#  bl\n",
    "for data_name in temp_data_bl:\n",
    "    data_name, time_bl = data_name.split(',')\n",
    "    temp = data_name.replace('\"', '').split('_')\n",
    "    time_dic['bl'][int(temp[2]), sample_dic[temp[1]]]= time_bl\n",
    "# plot the figure\n",
    "axes = plt.figure(figsize = [5, 4])\n",
    "n_data = 5\n",
    "for i_method,method in enumerate(method_list):    \n",
    "    y_val = np.mean(time_dic[method], axis=0)\n",
    "    temp_err = np.std(time_dic[method], axis=0) / np.sqrt(n_data) * 1.96\n",
    "    y_err = np.zeros([2, 3], dtype=float)\n",
    "    y_err[0, :] = np.log10(y_val) - np.log10(y_val - temp_err) \n",
    "    y_err[1, :] = np.log10(y_val + temp_err) - np.log10(y_val)\n",
    "    plt.errorbar([20000, 50000, 100000], np.log10(y_val), yerr=y_err,\\\n",
    "                 label=method_mapping_dic[method],\\\n",
    "                 capsize=4, elinewidth = 1.5, linewidth=1.5,\\\n",
    "                 color = color_list[i_method], marker = marker_list[i_method],\\\n",
    "                 markersize = 6, alpha=0.8)\n",
    "plt.legend(loc=2, fontsize=12)\n",
    "plt.ylabel('log10 time (sec)', fontsize=16)\n",
    "plt.xlabel('number of hypotheses', fontsize=16)\n",
    "plt.yticks([1, 2, 3, 4], ['1e1', '1e2', '1e3', '1e4'])\n",
    "plt.xticks([20000, 50000, 100000], ['20k', '50k', '100k'])\n",
    "plt.tight_layout()\n",
    "plt.savefig(output_folder+'speed_sample.png')\n",
    "plt.savefig(output_folder+'speed_sample.pdf')\n",
    "plt.show()"
   ]
  },
  {
   "cell_type": "markdown",
   "metadata": {
    "collapsed": true
   },
   "source": [
    "# Results on small data"
   ]
  },
  {
   "cell_type": "code",
   "execution_count": 9,
   "metadata": {},
   "outputs": [
    {
     "name": "stdout",
     "output_type": "stream",
     "text": [
      "airway\n",
      "Adapt #D=6045\n",
      "IHW #D=4866\n",
      "BL #D=4792\n",
      "\n",
      "bottomly\n",
      "Adapt #D=2109\n",
      "IHW #D=1714\n",
      "BL #D=2347\n",
      "\n",
      "pasilla\n",
      "Adapt #D=853\n",
      "IHW #D=785\n",
      "BL #D=740\n",
      "\n"
     ]
    }
   ],
   "source": [
    "data_list = [\n",
    "    {'data_name': 'airway',\n",
    "    'file_name': '/home/martin/NeuralFDR2/result_simulation/res_R_rna/res_airway',\n",
    "    'file_name_bl': '/home/martin/NeuralFDR2/result_simulation/res_R_rna_bl/res_airway'},\n",
    "    {'data_name': 'bottomly',\n",
    "    'file_name': '/home/martin/NeuralFDR2/result_simulation/res_R_rna/res_bottomly',\n",
    "    'file_name_bl': '/home/martin/NeuralFDR2/result_simulation/res_R_rna_bl/res_bottomly'},\n",
    "    {'data_name': 'pasilla',\n",
    "    'file_name': '/home/martin/NeuralFDR2/result_simulation/res_R_rna/res_pasilla',\n",
    "    'file_name_bl': '/home/martin/NeuralFDR2/result_simulation/res_R_rna_bl/res_pasilla'}\n",
    "]\n",
    "for config in data_list:\n",
    "    print(config['data_name'])\n",
    "    file_path = config['file_name'] \n",
    "    temp_data = np.loadtxt(file_path, skiprows=1, delimiter = ',')\n",
    "    print('Adapt #D=%d'%np.sum(temp_data[:, 2]))\n",
    "    print('IHW #D=%d'%np.sum(temp_data[:, 6]))\n",
    "    file_path = config['file_name_bl'] \n",
    "    temp_data = np.loadtxt(file_path, skiprows=1, delimiter = ',')\n",
    "    print('BL #D=%d'%np.sum(temp_data[:, 1] < 0.1))\n",
    "    print('')"
   ]
  },
  {
   "cell_type": "code",
   "execution_count": 25,
   "metadata": {},
   "outputs": [
    {
     "name": "stdout",
     "output_type": "stream",
     "text": [
      "Adipose_Subcutaneous_chr21\n",
      "Adapt #D=1333\n",
      "IHW #D=1333\n",
      "BL #D=1185\n",
      "\n",
      "Adipose_Visceral_Omentum_chr21\n",
      "Adapt #D=1037\n",
      "IHW #D=724\n",
      "BL #D=558\n",
      "\n"
     ]
    }
   ],
   "source": [
    "data_list = [\n",
    "    {'data_name': 'Adipose_Subcutaneous_chr21',\n",
    "    'file_name': '/home/martin/NeuralFDR2/result_simulation/res_R_data_gtex_adipose_chr21/res_Adipose_Subcutaneous_chr21_r',\n",
    "    'file_name_bl': '/home/martin/NeuralFDR2/result_simulation/res_R_data_gtex_adipose_chr21_bl/res_Adipose_Subcutaneous_chr21_r'},\n",
    "    {'data_name': 'Adipose_Visceral_Omentum_chr21',\n",
    "    'file_name': '/home/martin/NeuralFDR2/result_simulation/res_R_data_gtex_adipose_chr21/res_Adipose_Visceral_Omentum_chr21_r',\n",
    "    'file_name_bl': '/home/martin/NeuralFDR2/result_simulation/res_R_data_gtex_adipose_chr21_bl/res_Adipose_Visceral_Omentum_chr21_r'}\n",
    "]\n",
    "for config in data_list:\n",
    "    print(config['data_name'])\n",
    "    file_path = config['file_name'] \n",
    "    temp_data = pd.read_csv(file_path, delimiter = ',')\n",
    "    print('Adapt #D=%d'%np.sum(temp_data['adaptMT_0.01']))\n",
    "    print('IHW #D=%d'%np.sum(temp_data['IHW_0.01']))\n",
    "    file_path = config['file_name_bl'] \n",
    "    temp_data = pd.read_csv(file_path, delimiter = ',')\n",
    "    print('BL #D=%d'%np.sum(temp_data['bl'] <= 0.01))\n",
    "    print('')"
   ]
  },
  {
   "cell_type": "code",
   "execution_count": null,
   "metadata": {},
   "outputs": [],
   "source": []
  }
 ],
 "metadata": {
  "kernelspec": {
   "display_name": "Python 3",
   "language": "python",
   "name": "python3"
  },
  "language_info": {
   "codemirror_mode": {
    "name": "ipython",
    "version": 3
   },
   "file_extension": ".py",
   "mimetype": "text/x-python",
   "name": "python",
   "nbconvert_exporter": "python",
   "pygments_lexer": "ipython3",
   "version": "3.6.8"
  }
 },
 "nbformat": 4,
 "nbformat_minor": 2
}
