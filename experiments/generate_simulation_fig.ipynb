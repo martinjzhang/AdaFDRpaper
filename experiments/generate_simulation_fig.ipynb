{
 "cells": [
  {
   "cell_type": "code",
   "execution_count": 8,
   "metadata": {},
   "outputs": [
    {
     "name": "stdout",
     "output_type": "stream",
     "text": [
      "The autoreload extension is already loaded. To reload it, use:\n",
      "  %reload_ext autoreload\n"
     ]
    }
   ],
   "source": [
    "## import public packages\n",
    "import numpy as np\n",
    "import matplotlib.pyplot as plt\n",
    "from datetime import datetime\n",
    "from sklearn.cluster import KMeans\n",
    "from scipy.stats import norm\n",
    "from scipy.stats import multivariate_normal\n",
    "import time\n",
    "import pickle\n",
    "import os\n",
    "\n",
    "## import self-written packages \n",
    "from adafdr.util import *\n",
    "import adafdr.method as md\n",
    "import adafdr.data_loader as dl\n",
    "\n",
    "%matplotlib inline\n",
    "%load_ext autoreload\n",
    "%autoreload 2"
   ]
  },
  {
   "cell_type": "markdown",
   "metadata": {},
   "source": [
    "## simu_2d_bump_slope"
   ]
  },
  {
   "cell_type": "code",
   "execution_count": 17,
   "metadata": {},
   "outputs": [],
   "source": [
    "plot_list = [\n",
    "    {'data_name': 'simu_data_adapt',\n",
    "    'filename': \n",
    "     '/home/martin/NeuralFDR2/result_simulation/result_simu_data_adapt/result_dic.pickle',\n",
    "    'folder_r': '/home/martin/NeuralFDR2/result_simulation/res_R_data_adapt'},\n",
    "    {'data_name': 'simu_data_ihw',\n",
    "    'filename': \n",
    "     '/home/martin/NeuralFDR2/result_simulation/result_simu_data_ihw/result_dic.pickle',\n",
    "    'folder_r': '/home/martin/NeuralFDR2/result_simulation/res_R_simu_data_ihw'},\n",
    "    {'data_name': 'simu_data_wd',\n",
    "    'filename': \n",
    "     '/home/martin/NeuralFDR2/result_simulation/result_simu_data_wd/result_dic.pickle',\n",
    "    'folder_r': '/home/martin/NeuralFDR2/result_simulation/res_R_simu_data_wd'},\n",
    "    {'data_name': 'simu_data_sd',\n",
    "    'filename': \n",
    "     '/home/martin/NeuralFDR2/result_simulation/result_simu_data_sd/result_dic.pickle',\n",
    "    'folder_r': '/home/martin/NeuralFDR2/result_simulation/res_R_simu_data_sd'},\n",
    "    {'data_name': 'simu_1d_bump_slope',\n",
    "    'filename': \n",
    "     '/home/martin/NeuralFDR2/result_simulation/result_simu_1d_bump_slope/result_dic.pickle',\n",
    "    'folder_r': '/home/martin/NeuralFDR2/result_simulation/res_R_simu_1d_bump_slope'},\n",
    "    {'data_name': 'simu_2d_bump_slope',\n",
    "    'filename': \n",
    "     '/home/martin/NeuralFDR2/result_simulation/result_simu_2d_bump_slope/result_dic.pickle',\n",
    "    'folder_r': '/home/martin/NeuralFDR2/result_simulation/res_R_simu_2d_bump_slope'},\n",
    "    {'data_name': 'simu_10d_bump_slope',\n",
    "    'filename': \n",
    "     '/home/martin/NeuralFDR2/result_simulation/result_simu_10d_bump_slope/result_dic.pickle',\n",
    "    'folder_r': '/home/martin/NeuralFDR2/result_simulation/res_R_simu_10d_bump_slope'}\n",
    "]"
   ]
  },
  {
   "cell_type": "code",
   "execution_count": 2,
   "metadata": {},
   "outputs": [],
   "source": [
    "plot_list = [\n",
    "    {'data_name': 'simu_data_adapt',\n",
    "    'filename': \n",
    "     '/home/martin/NeuralFDR2/result_simulation/result_simu_data_adapt/result_dic.pickle',\n",
    "    'folder_r': '/home/martin/NeuralFDR2/result_simulation/res_R_data_adapt'}\n",
    "]"
   ]
  },
  {
   "cell_type": "code",
   "execution_count": 18,
   "metadata": {},
   "outputs": [
    {
     "name": "stdout",
     "output_type": "stream",
     "text": [
      "simu_data_adapt\n",
      "simu_data_ihw\n",
      "simu_data_wd\n",
      "simu_data_sd\n",
      "simu_1d_bump_slope\n",
      "simu_2d_bump_slope\n",
      "simu_10d_bump_slope\n"
     ]
    }
   ],
   "source": [
    "method_mapping_dic = {'nfdr (fast)': 'AdaFDR (fast)',\\\n",
    "                      'nfdr': 'AdaFDR',\\\n",
    "                      'ihw': 'IHW',\\\n",
    "                      'adapt': 'AdaPT',\\\n",
    "                      'bh': 'BH',\\\n",
    "                      'sbh': 'SBH'}\n",
    "output_folder = '/home/martin/NeuralFDR2/figures/fig_simulation/'\n",
    "# output_folder = None\n",
    "for config in plot_list:\n",
    "    data_name = config['data_name']\n",
    "    res_py = config['filename']\n",
    "    res_r = config['folder_r']\n",
    "    print(data_name)\n",
    "    summary_stats, time_dic = get_summary_stats(filename=res_py, folder_r=res_r)\n",
    "    plot_size_power(summary_stats, method_mapping_dic,\\\n",
    "                    data_name=data_name, output_folder = output_folder)\\"
   ]
  },
  {
   "cell_type": "markdown",
   "metadata": {},
   "source": [
    "# Speed"
   ]
  },
  {
   "cell_type": "code",
   "execution_count": 19,
   "metadata": {},
   "outputs": [
    {
     "data": {
      "image/png": "[encoded data removed]",
      "text/plain": [
       "<Figure size 360x288 with 1 Axes>"
      ]
     },
     "metadata": {},
     "output_type": "display_data"
    }
   ],
   "source": [
    "res_py = '/home/martin/NeuralFDR2/result_simulation/result_simu_speed_dim/result_dic.pickle'\n",
    "res_r = '/home/martin/NeuralFDR2/result_simulation/res_R_simu_speed_dim/time_rec'\n",
    "marker_list = ['^', 'v', '*', 'o']\n",
    "# color_list = ['C1', 'C2', 'C3', 'C0']\n",
    "color_list = ['C3', 'C2', 'C0', 'C1']\n",
    "# read data\n",
    "fil = open(res_py, 'rb')\n",
    "result_dic = pickle.load(fil)\n",
    "time_dic_py = pickle.load(fil)\n",
    "fil.close()\n",
    "temp_data = np.loadtxt(res_r, dtype=str, skiprows=1)\n",
    "# \n",
    "# method_list = ['nfdr (fast)', 'nfdr', 'adapt', 'ihw']\n",
    "method_list = ['adapt', 'nfdr', 'ihw', 'nfdr (fast)']\n",
    "method_mapping_dic = {'nfdr (fast)': 'AdaFDR (fast)',\\\n",
    "                      'nfdr': 'AdaFDR',\\\n",
    "                      'ihw': 'IHW',\\\n",
    "                      'adapt': 'AdaPT',\\\n",
    "                      'bh': 'BH',\\\n",
    "                      'sbh': 'SBH'}\n",
    "time_dic = {}\n",
    "for method in method_list:\n",
    "    time_dic[method] = np.zeros([5, 4], dtype=float)\n",
    "# nfdr and the fast version\n",
    "for data_name in time_dic_py['nfdr'][0.1]:\n",
    "    temp = data_name.split('_')\n",
    "    time_dic['nfdr'][int(temp[2]), int(int(temp[1])/2-1)] = \\\n",
    "        time_dic_py['nfdr'][0.1][data_name]\n",
    "for data_name in time_dic_py['nfdr (fast)'][0.1]:\n",
    "    temp = data_name.split('_')\n",
    "    time_dic['nfdr (fast)'][int(temp[2]), int(int(temp[1])/2-1)] = \\\n",
    "        time_dic_py['nfdr (fast)'][0.1][data_name]\n",
    "#  adapt and ihw\n",
    "for data_name in temp_data:\n",
    "    data_name, time_adapt, time_ihw = data_name.split(',')\n",
    "    temp = data_name.replace('\"', '').split('_')\n",
    "    time_dic['adapt'][int(temp[2]), int(int(temp[1])/2-1)] = time_adapt\n",
    "    time_dic['ihw'][int(temp[2]), int(int(temp[1])/2-1)] = time_ihw\n",
    "# plot the figure\n",
    "axes = plt.figure(figsize = [5, 4])\n",
    "n_data = 5\n",
    "for i_method,method in enumerate(method_list):    \n",
    "    y_val = np.mean(time_dic[method], axis=0)\n",
    "    temp_err = np.std(time_dic[method], axis=0) / np.sqrt(n_data) * 1.96\n",
    "    y_err = np.zeros([2, 4], dtype=float)\n",
    "    y_err[0, :] = np.log10(y_val) - np.log10(y_val - temp_err) \n",
    "    y_err[1, :] = np.log10(y_val + temp_err) - np.log10(y_val)\n",
    "    plt.errorbar([2, 4, 6, 8], np.log10(y_val), yerr=y_err,\\\n",
    "                 label=method_mapping_dic[method],\\\n",
    "                 capsize=4, elinewidth = 1.5, linewidth=1.5,\\\n",
    "                 color = color_list[i_method], marker = marker_list[i_method],\\\n",
    "                 markersize = 6, alpha=0.8)\n",
    "plt.legend(loc=2, fontsize=12)\n",
    "plt.ylabel('log10 time (sec)', fontsize=16)\n",
    "plt.xlabel('dimension', fontsize=16)\n",
    "plt.yticks([1, 2, 3, 4], ['1e1', '1e2', '1e3', '1e4'])\n",
    "plt.tight_layout()\n",
    "plt.savefig(output_folder+'speed_dim.png')\n",
    "plt.savefig(output_folder+'speed_dim.pdf')\n",
    "plt.show()"
   ]
  },
  {
   "cell_type": "code",
   "execution_count": 20,
   "metadata": {},
   "outputs": [
    {
     "data": {
      "image/png": "[encoded data removed]",
      "text/plain": [
       "<Figure size 360x288 with 1 Axes>"
      ]
     },
     "metadata": {},
     "output_type": "display_data"
    }
   ],
   "source": [
    "res_py = '/home/martin/NeuralFDR2/result_simulation/result_simu_speed_sample/result_dic.pickle'\n",
    "res_r = '/home/martin/NeuralFDR2/result_simulation/res_R_simu_speed_sample/time_rec'\n",
    "# marker_list = ['^', '*', 'h', 'd']\n",
    "marker_list = ['^', 'v', '*', 'o']\n",
    "# color_list = ['C1', 'C2', 'C3', 'C0']\n",
    "color_list = ['C3', 'C2', 'C0', 'C1']\n",
    "# read data\n",
    "fil = open(res_py, 'rb')\n",
    "result_dic = pickle.load(fil)\n",
    "time_dic_py = pickle.load(fil)\n",
    "fil.close()\n",
    "temp_data = np.loadtxt(res_r, dtype=str, skiprows=1)\n",
    "# \n",
    "# method_list = ['nfdr (fast)', 'nfdr', 'adapt', 'ihw']\n",
    "method_list = ['adapt', 'nfdr', 'ihw', 'nfdr (fast)']\n",
    "method_mapping_dic = {'nfdr (fast)': 'AdaFDR (fast)',\\\n",
    "                      'nfdr': 'AdaFDR',\\\n",
    "                      'ihw': 'IHW',\\\n",
    "                      'adapt': 'AdaPT',\\\n",
    "                      'bh': 'BH',\\\n",
    "                      'sbh': 'SBH'}\n",
    "time_dic = {}\n",
    "for method in method_list:\n",
    "    time_dic[method] = np.zeros([5, 3], dtype=float)\n",
    "sample_dic = {'20000': 0, '50000': 1, '100000': 2}\n",
    "# nfdr and the fast version\n",
    "for data_name in time_dic_py['nfdr'][0.1]:\n",
    "    temp = data_name.split('_')\n",
    "    time_dic['nfdr'][int(temp[2]), sample_dic[temp[1]]] = \\\n",
    "        time_dic_py['nfdr'][0.1][data_name]\n",
    "for data_name in time_dic_py['nfdr (fast)'][0.1]:\n",
    "    temp = data_name.split('_')\n",
    "    time_dic['nfdr (fast)'][int(temp[2]), sample_dic[temp[1]]] = \\\n",
    "        time_dic_py['nfdr (fast)'][0.1][data_name]\n",
    "#  adapt and ihw\n",
    "for data_name in temp_data:\n",
    "    data_name, time_adapt, time_ihw = data_name.split(',')\n",
    "    temp = data_name.replace('\"', '').split('_')\n",
    "    time_dic['adapt'][int(temp[2]), sample_dic[temp[1]]]= time_adapt\n",
    "    time_dic['ihw'][int(temp[2]), sample_dic[temp[1]]] = time_ihw\n",
    "# plot the figure\n",
    "axes = plt.figure(figsize = [5, 4])\n",
    "n_data = 5\n",
    "for i_method,method in enumerate(method_list):    \n",
    "    y_val = np.mean(time_dic[method], axis=0)\n",
    "    temp_err = np.std(time_dic[method], axis=0) / np.sqrt(n_data) * 1.96\n",
    "    y_err = np.zeros([2, 3], dtype=float)\n",
    "    y_err[0, :] = np.log10(y_val) - np.log10(y_val - temp_err) \n",
    "    y_err[1, :] = np.log10(y_val + temp_err) - np.log10(y_val)\n",
    "    plt.errorbar([20000, 50000, 100000], np.log10(y_val), yerr=y_err,\\\n",
    "                 label=method_mapping_dic[method],\\\n",
    "                 capsize=4, elinewidth = 1.5, linewidth=1.5,\\\n",
    "                 color = color_list[i_method], marker = marker_list[i_method],\\\n",
    "                 markersize = 6, alpha=0.8)\n",
    "plt.legend(loc=2, fontsize=12)\n",
    "plt.ylabel('log10 time (sec)', fontsize=16)\n",
    "plt.xlabel('number of hypotheses', fontsize=16)\n",
    "plt.yticks([1, 2, 3, 4], ['1e1', '1e2', '1e3', '1e4'])\n",
    "plt.xticks([20000, 50000, 100000], ['20k', '50k', '100k'])\n",
    "plt.tight_layout()\n",
    "plt.savefig(output_folder+'speed_sample.png')\n",
    "plt.savefig(output_folder+'speed_sample.pdf')\n",
    "plt.show()"
   ]
  },
  {
   "cell_type": "markdown",
   "metadata": {
    "collapsed": true
   },
   "source": [
    "# Results on small data"
   ]
  },
  {
   "cell_type": "code",
   "execution_count": 152,
   "metadata": {},
   "outputs": [
    {
     "name": "stdout",
     "output_type": "stream",
     "text": [
      "airway\n",
      "Adapt #D=6045\n",
      "IHW #D=4866\n",
      "bottomly\n",
      "Adapt #D=2109\n",
      "IHW #D=1714\n",
      "pasilla\n",
      "Adapt #D=853\n",
      "IHW #D=785\n"
     ]
    }
   ],
   "source": [
    "data_list = [\n",
    "    {'data_name': 'airway',\n",
    "    'file_name': '/home/martin/NeuralFDR2/result_simulation/res_R_rna/res_airway'},\n",
    "    {'data_name': 'bottomly',\n",
    "    'file_name': '/home/martin/NeuralFDR2/result_simulation/res_R_rna/res_bottomly'},\n",
    "    {'data_name': 'pasilla',\n",
    "    'file_name': '/home/martin/NeuralFDR2/result_simulation/res_R_rna/res_pasilla'}\n",
    "]\n",
    "for config in data_list:\n",
    "    print(config['data_name'])\n",
    "    file_path = config['file_name'] \n",
    "    temp_data = np.loadtxt(file_path, skiprows=1, delimiter = ',')\n",
    "    print('Adapt #D=%d'%np.sum(temp_data[:, 2]))\n",
    "    print('IHW #D=%d'%np.sum(temp_data[:, 6]))"
   ]
  },
  {
   "cell_type": "markdown",
   "metadata": {},
   "source": [
    "##### temp_data[0,]"
   ]
  },
  {
   "cell_type": "code",
   "execution_count": null,
   "metadata": {},
   "outputs": [],
   "source": []
  }
 ],
 "metadata": {
  "kernelspec": {
   "display_name": "Python 3",
   "language": "python",
   "name": "python3"
  },
  "language_info": {
   "codemirror_mode": {
    "name": "ipython",
    "version": 3
   },
   "file_extension": ".py",
   "mimetype": "text/x-python",
   "name": "python",
   "nbconvert_exporter": "python",
   "pygments_lexer": "ipython3",
   "version": "3.6.3"
  }
 },
 "nbformat": 4,
 "nbformat_minor": 2
}
