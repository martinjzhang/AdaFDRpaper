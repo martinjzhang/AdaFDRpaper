{
 "cells": [
  {
   "cell_type": "code",
   "execution_count": 13,
   "metadata": {},
   "outputs": [
    {
     "name": "stdout",
     "output_type": "stream",
     "text": [
      "The autoreload extension is already loaded. To reload it, use:\n",
      "  %reload_ext autoreload\n"
     ]
    }
   ],
   "source": [
    "## import public packages\n",
    "import numpy as np\n",
    "import matplotlib.pyplot as plt\n",
    "from datetime import datetime\n",
    "from sklearn.cluster import KMeans\n",
    "from scipy.stats import norm\n",
    "from scipy.stats import multivariate_normal\n",
    "import torch\n",
    "from torch.autograd import Variable\n",
    "\n",
    "## import self-written packages \n",
    "from util import *\n",
    "import prim_fdr as pf\n",
    "import data_loader as dl\n",
    "\n",
    "%matplotlib inline\n",
    "%load_ext autoreload\n",
    "%autoreload 2"
   ]
  },
  {
   "cell_type": "markdown",
   "metadata": {},
   "source": [
    "### Test GTEx"
   ]
  },
  {
   "cell_type": "code",
   "execution_count": 11,
   "metadata": {
    "scrolled": true
   },
   "outputs": [
    {
     "name": "stdout",
     "output_type": "stream",
     "text": [
      "## Load ukbb breast cancer data ##\n",
      "# all hypothesis: 847800\n",
      "# filtered hypothesis: 89577\n",
      "# p=0.99706, x=[19.  0.]\n",
      "# p=0.969224, x=[19.  0.]\n",
      "# p=0.952471, x=[1.9e+01 1.0e-03]\n",
      "# p=0.987448, x=[19.  0.]\n",
      "# p=0.98016, x=[19.  0.]\n",
      "\n",
      "\n",
      "## BH, n_rej=151, t_rej=0.00002\n",
      "pi0_hat 0.954701802221937\n",
      "## SBH, n_rej=153, t_rej=0.00002\n"
     ]
    }
   ],
   "source": [
    "## loading the data \n",
    "p,x,n_full,cate_name = dl.load_ukbb_breast_cancer(verbose=True)\n",
    "\n",
    "## report the baseline   \n",
    "n_rej,t_rej=pf.bh(p,alpha=0.1,n_sample=n_full,verbose=False)\n",
    "print('## BH, n_rej=%d, t_rej=%0.5f'%(n_rej,t_rej))\n",
    "n_rej,t_rej,pi0_hat=pf.storey_bh(p,alpha=0.1,n_sample=n_full,verbose=False)\n",
    "print('## SBH, n_rej=%d, t_rej=%0.5f'%(n_rej,t_rej))"
   ]
  },
  {
   "cell_type": "code",
   "execution_count": 7,
   "metadata": {},
   "outputs": [
    {
     "data": {
      "text/plain": [
       "<function matplotlib.pyplot.show>"
      ]
     },
     "execution_count": 7,
     "metadata": {},
     "output_type": "execute_result"
    },
    {
     "data": {
      "image/png": "[encoded data removed]",
      "text/plain": [
       "<Figure size 432x288 with 1 Axes>"
      ]
     },
     "metadata": {},
     "output_type": "display_data"
    }
   ],
   "source": [
    "plt.figure()\n",
    "plt.hist(p,bins=50)\n",
    "plt.show"
   ]
  },
  {
   "cell_type": "code",
   "execution_count": 17,
   "metadata": {},
   "outputs": [
    {
     "name": "stdout",
     "output_type": "stream",
     "text": [
      "## Load ukbb breast cancer data ##\n",
      "# all hypothesis: 847800\n",
      "# filtered hypothesis: 87965\n",
      "# p=0.0258757, x=[4.    0.514]\n",
      "# p=0.0251301, x=[15.  0.]\n",
      "# p=0.022027, x=[10.     0.033]\n",
      "# p=0.0324865, x=[11.  0.]\n",
      "# p=0.0262055, x=[1.5e+01 2.0e-03]\n",
      "\n",
      "\n",
      "## BH, n_rej=271, t_rej=0.00006\n",
      "pi0_hat 1.0\n",
      "## SBH, n_rej=271, t_rej=0.00006\n"
     ]
    }
   ],
   "source": [
    "## loading the data \n",
    "p,x,n_full,cate_name = dl.load_ukbb_diabetic(verbose=True)\n",
    "\n",
    "## report the baseline   \n",
    "n_rej,t_rej=pf.bh(p,alpha=0.2,n_sample=n_full,verbose=False)\n",
    "print('## BH, n_rej=%d, t_rej=%0.5f'%(n_rej,t_rej))\n",
    "n_rej,t_rej,pi0_hat=pf.storey_bh(p,alpha=0.2,n_sample=n_full,verbose=False)\n",
    "print('## SBH, n_rej=%d, t_rej=%0.5f'%(n_rej,t_rej))"
   ]
  },
  {
   "cell_type": "code",
   "execution_count": null,
   "metadata": {
    "collapsed": true
   },
   "outputs": [],
   "source": []
  }
 ],
 "metadata": {
  "kernelspec": {
   "display_name": "Python 3",
   "language": "python",
   "name": "python3"
  },
  "language_info": {
   "codemirror_mode": {
    "name": "ipython",
    "version": 3
   },
   "file_extension": ".py",
   "mimetype": "text/x-python",
   "name": "python",
   "nbconvert_exporter": "python",
   "pygments_lexer": "ipython3",
   "version": "3.6.3"
  }
 },
 "nbformat": 4,
 "nbformat_minor": 2
}
