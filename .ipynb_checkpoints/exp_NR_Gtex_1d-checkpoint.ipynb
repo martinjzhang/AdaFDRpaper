{
 "cells": [
  {
   "cell_type": "code",
   "execution_count": 2,
   "metadata": {},
   "outputs": [],
   "source": [
    "## import public packages\n",
    "import numpy as np\n",
    "import matplotlib.pyplot as plt\n",
    "from datetime import datetime\n",
    "from sklearn.cluster import KMeans\n",
    "from scipy.stats import norm\n",
    "from scipy.stats import multivariate_normal\n",
    "import torch\n",
    "from torch.autograd import Variable\n",
    "\n",
    "## import self-written packages \n",
    "from util import *\n",
    "from prim_fdr import *\n",
    "from data_loader import *\n",
    "\n",
    "%matplotlib inline\n",
    "%load_ext autoreload\n",
    "%autoreload 2"
   ]
  },
  {
   "cell_type": "code",
   "execution_count": 3,
   "metadata": {},
   "outputs": [
    {
     "name": "stdout",
     "output_type": "stream",
     "text": [
      "## airway data ##\n",
      "# hypothesis: 464636\n",
      "p=0.715193, x=6.48616078894\n",
      "p=0.798508, x=9.96232233826\n",
      "p=0.08865, x=9.99747868096\n",
      "p=0.778747, x=10.095057874\n",
      "p=0.915566, x=10.1279102853\n",
      "\n",
      "\n",
      "### bh summary ###\n",
      "# rejections: 1536\n",
      "rejection threshold: 0.000330371\n",
      "\n",
      "\n",
      "### sbh summary ###\n",
      "# rejections: 1560\n",
      "rejection threshold: 0.000346199\n",
      "null estimate: 0.960983436497\n",
      "\n",
      "\n"
     ]
    }
   ],
   "source": [
    "## loading airway data\n",
    "p,x = load_GTEx_1d(verbose=True)\n",
    "\n",
    "## testing the BH method\n",
    "n_rej,t_rej=bh(p,alpha=0.1,verbose=True)\n",
    "#print('FDP: %s \\n'%str( np.sum((h==0)*(p<t_rej)/np.sum(p<t_rej))))\n",
    "\n",
    "## testing the Storey BH method\n",
    "n_rej,t_rej,pi0_hat=storey_bh(p,alpha=0.1,verbose=True)\n",
    "#print('FDP: %s\\n'%str( np.sum((h==0)*(p<t_rej)/np.sum(p<t_rej))))"
   ]
  },
  {
   "cell_type": "code",
   "execution_count": null,
   "metadata": {
    "collapsed": true
   },
   "outputs": [],
   "source": []
  },
  {
   "cell_type": "markdown",
   "metadata": {},
   "source": [
    "### Testing ###"
   ]
  },
  {
   "cell_type": "code",
   "execution_count": 4,
   "metadata": {
    "scrolled": false
   },
   "outputs": [
    {
     "name": "stdout",
     "output_type": "stream",
     "text": [
      "### ML initialization starts ###\n",
      "\n"
     ]
    },
    {
     "data": {
      "image/png": "[encoded data removed]",
      "text/plain": [
       "<matplotlib.figure.Figure at 0x7f8e8d0e2c88>"
      ]
     },
     "metadata": {},
     "output_type": "display_data"
    },
    {
     "name": "stdout",
     "output_type": "stream",
     "text": [
      "## Learned parameters: ##\n",
      "Slope: w=0.00820128814353, a=2.5976318359375004\n",
      "Bump 0: w=0.0418219937474, mu=[ 0.9427312], sigma=[ 0.02139735]\n",
      "Bump 1: w=0.104729730741, mu=[ 0.76610879], sigma=[ 0.08078877]\n",
      "Bump 2: w=0.845246987368, mu=[ 0.797272], sigma=[ 0.0277769]\n",
      "\n",
      "\n"
     ]
    }
   ],
   "source": [
    "## testing the initialization \n",
    "temp_x = (x - np.min(x)) / (np.max(x)-np.min(x))\n",
    "w,a,mu,sigma = ML_init(p,temp_x,3,alpha=0.1,n_itr=100,h=None,verbose=True)\n",
    "\n",
    "# plt.figure()\n",
    "# temp=np.linspace(0,1,101)\n",
    "# plt.hist(x[h==1],bins=50,weights=1/np.sum(h==1)*50*np.ones([np.sum(h==1)]))\n",
    "# temp = np.linspace(0,1,101)\n",
    "# plt.plot(temp,f_all(temp,a,mu,sigma,w))\n",
    "# plt.show()"
   ]
  },
  {
   "cell_type": "code",
   "execution_count": null,
   "metadata": {
    "scrolled": false
   },
   "outputs": [
    {
     "name": "stdout",
     "output_type": "stream",
     "text": [
      "### Parameters\n",
      "n_itr=5000, n_samp=464636, lambda0=3026.90006084, lambda1=100.0\n",
      "### ML initialization starts ###\n",
      "\n"
     ]
    },
    {
     "data": {
      "image/png": "[encoded data removed]",
      "text/plain": [
       "<matplotlib.figure.Figure at 0x7f8e8722dba8>"
      ]
     },
     "metadata": {},
     "output_type": "display_data"
    },
    {
     "name": "stdout",
     "output_type": "stream",
     "text": [
      "## Learned parameters: ##\n",
      "Slope: w=0.00820128814353, a=2.5976318359375004\n",
      "Bump 0: w=0.0418219937474, mu=[ 0.9427312], sigma=[ 0.02139735]\n",
      "Bump 1: w=0.104729730741, mu=[ 0.76610879], sigma=[ 0.08078877]\n",
      "Bump 2: w=0.845246987368, mu=[ 0.797272], sigma=[ 0.0277769]\n",
      "\n",
      "\n",
      "## # of discovery: 2225\n",
      "### initialization value ###\n",
      "Slope: a=[ 2.59763193], b=[-14.66515541]\n",
      "Bump 0: w=-8.54481, mu=[ 0.9427312], sigma=[ 0.00091569]\n",
      "Bump 1: w=-8.95542, mu=[ 0.76610881], sigma=[ 0.01305365]\n",
      "Bump 2: w=-5.79954, mu=[ 0.79727203], sigma=[ 0.00154311]\n",
      "\n",
      "\n",
      "### iteration 0 ###\n",
      "mean t:  0.000427246\n",
      "mean discovery:  0.00436255477406\n",
      "loss1:  [-0.0045214]\n",
      "loss2:  [ 0.]\n",
      "n_rej:  2027\n",
      "Estimated FDP: [ 0.09449429]\n",
      "FDP: 0.0\n",
      "Slope: a=[ 2.59856987], b=[-14.66420841]\n",
      "Bump 0: w=-8.54382, mu=[ 0.941733], sigma=[ 0.00091569]\n",
      "Bump 1: w=-8.95442, mu=[ 0.7671082], sigma=[ 0.01305365]\n",
      "Bump 2: w=-5.79854, mu=[ 0.79827195], sigma=[ 0.00154311]\n"
     ]
    },
    {
     "data": {
      "image/png": "[encoded data removed]",
      "text/plain": [
       "<matplotlib.figure.Figure at 0x7f8e8cfdf5c0>"
      ]
     },
     "metadata": {},
     "output_type": "display_data"
    },
    {
     "name": "stdout",
     "output_type": "stream",
     "text": [
      "\n",
      "\n"
     ]
    }
   ],
   "source": [
    "## test prim_fdr\n",
    "n_rej,t=PrimFDR(p,temp_x,3,alpha=0.1,h=None,n_itr=5000,verbose=True)\n",
    "\n",
    "print(\"### Summary ###\")\n",
    "print(\"method: perim_test_1d\")\n",
    "print(\"# rejections: %s\"%str(n_rej))\n",
    "print(\"FDP: %s\"%str( np.sum((h==0)*(p<t))/np.sum(p<t)))\n",
    "print(\"### End Summary ###\")"
   ]
  },
  {
   "cell_type": "code",
   "execution_count": null,
   "metadata": {
    "collapsed": true
   },
   "outputs": [],
   "source": []
  },
  {
   "cell_type": "code",
   "execution_count": null,
   "metadata": {
    "collapsed": true
   },
   "outputs": [],
   "source": []
  },
  {
   "cell_type": "code",
   "execution_count": null,
   "metadata": {
    "collapsed": true
   },
   "outputs": [],
   "source": []
  },
  {
   "cell_type": "code",
   "execution_count": null,
   "metadata": {
    "collapsed": true
   },
   "outputs": [],
   "source": []
  }
 ],
 "metadata": {
  "kernelspec": {
   "display_name": "Python 3",
   "language": "python",
   "name": "python3"
  },
  "language_info": {
   "codemirror_mode": {
    "name": "ipython",
    "version": 3
   },
   "file_extension": ".py",
   "mimetype": "text/x-python",
   "name": "python",
   "nbconvert_exporter": "python",
   "pygments_lexer": "ipython3",
   "version": "3.6.3"
  }
 },
 "nbformat": 4,
 "nbformat_minor": 2
}
