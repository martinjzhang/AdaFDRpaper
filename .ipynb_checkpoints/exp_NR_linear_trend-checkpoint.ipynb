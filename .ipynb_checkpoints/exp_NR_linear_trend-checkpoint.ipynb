{
 "cells": [
  {
   "cell_type": "code",
   "execution_count": 1,
   "metadata": {},
   "outputs": [],
   "source": [
    "## import public packages\n",
    "import numpy as np\n",
    "import matplotlib.pyplot as plt\n",
    "from datetime import datetime\n",
    "from sklearn.cluster import KMeans\n",
    "from scipy.stats import norm\n",
    "from scipy.stats import multivariate_normal\n",
    "import torch\n",
    "from torch.autograd import Variable\n",
    "\n",
    "## import self-written packages \n",
    "from util import *\n",
    "from prim_fdr import *\n",
    "from data_loader import *\n",
    "\n",
    "%matplotlib inline\n",
    "%load_ext autoreload\n",
    "%autoreload 2"
   ]
  },
  {
   "cell_type": "code",
   "execution_count": 20,
   "metadata": {},
   "outputs": [
    {
     "name": "stdout",
     "output_type": "stream",
     "text": [
      "### Summary ###\n",
      "method: BH\n",
      "# rejections: 8368\n",
      "rejection threshold: 0.00836769773394\n",
      "### End Summary ###\n",
      "FDP: 0.0815009560229 \n",
      "\n",
      "### Summary ###\n",
      "method: Storey BH\n",
      "# rejections: 9483\n",
      "rejection threshold: 0.0117048834108\n",
      "null estimate: 0.80995\n",
      "### End Summary ###\n",
      "FDP: 0.100073816303\n",
      "\n"
     ]
    },
    {
     "data": {
      "image/png": "[encoded data removed]",
      "text/plain": [
       "<matplotlib.figure.Figure at 0x7f8a7c3132e8>"
      ]
     },
     "metadata": {},
     "output_type": "display_data"
    }
   ],
   "source": [
    "## generating a 1d toy data \n",
    "# p,x,h=toy_data_1d(n_sample=100000,vis=1)\n",
    "# p,h,x=neuralfdr_generate_data_2D(job=0,data_vis=1) ## gaussian mixture\n",
    "p,h,x=neuralfdr_generate_data_2D(job=1,data_vis=1) ## linear trend \n",
    "# p,h,x=neuralfdr_generate_data_2D(job=2,data_vis=1) ## gaussian mixture + linear trend\n",
    "\n",
    "## testing the BH method\n",
    "n_rej,t_rej=bh(p,alpha=0.1,verbose=True)\n",
    "print('FDP: %s \\n'%str( np.sum((h==0)*(p<t_rej)/np.sum(p<t_rej))))\n",
    "\n",
    "## testing the Storey BH method\n",
    "n_rej,t_rej,pi0_hat=storey_bh(p,alpha=0.1,verbose=True)\n",
    "print('FDP: %s\\n'%str( np.sum((h==0)*(p<t_rej)/np.sum(p<t_rej))))"
   ]
  },
  {
   "cell_type": "markdown",
   "metadata": {},
   "source": [
    "### Testing ###"
   ]
  },
  {
   "cell_type": "code",
   "execution_count": 10,
   "metadata": {
    "scrolled": true
   },
   "outputs": [
    {
     "name": "stdout",
     "output_type": "stream",
     "text": [
      "### ML initialization starts ###\n",
      "\n",
      "## Learned parameters: ##\n",
      "Slope: w=0.923250862995, a=[ 0.44940918 -1.30849121]\n",
      "Bump 0: w=0.0248348951079, mu=[ 0.58803818  0.57442758], sigma=[ 0.15747715  0.08183423]\n",
      "Bump 1: w=0.0305436927468, mu=[ 0.32894391  0.26822023], sigma=[ 0.1286829   0.10621428]\n",
      "Bump 2: w=0.0213705491505, mu=[ 0.69782     0.32363947], sigma=[ 0.12019481  0.1010864 ]\n",
      "\n",
      "\n",
      "## Testing Summary ##\n",
      "Num of alternatives: 19896.0\n",
      "Num of discovery: 10112\n",
      "Num of true discovery: 9118.0\n",
      "Actual FDP: 0.0982990506329\n",
      "\n",
      "\n"
     ]
    }
   ],
   "source": [
    "## testing the initialization \n",
    "w,a,mu,sigma = ML_init(p,x,3,alpha=0.1,n_itr=100,h=h,verbose=True)\n",
    "\n",
    "# plt.figure()\n",
    "# temp=np.linspace(0,1,101)\n",
    "# plt.hist(x[h==1],bins=50,weights=1/np.sum(h==1)*50*np.ones([np.sum(h==1)]))\n",
    "# temp = np.linspace(0,1,101)\n",
    "# plt.plot(temp,f_all(temp,a,mu,sigma,w))\n",
    "# plt.show()"
   ]
  },
  {
   "cell_type": "code",
   "execution_count": null,
   "metadata": {
    "scrolled": false
   },
   "outputs": [
    {
     "name": "stdout",
     "output_type": "stream",
     "text": [
      "### Parameters\n",
      "n_itr=1000, n_samp=100000, lambda0=119.507184867, lambda1=100.0\n",
      "### ML initialization starts ###\n",
      "\n",
      "## Learned parameters: ##\n",
      "Slope: w=0.923250862995, a=[ 0.44940918 -1.30849121]\n",
      "Bump 0: w=0.0248348951079, mu=[ 0.58803818  0.57442758], sigma=[ 0.15747715  0.08183423]\n",
      "Bump 1: w=0.0305436927468, mu=[ 0.32894391  0.26822023], sigma=[ 0.1286829   0.10621428]\n",
      "Bump 2: w=0.0213705491505, mu=[ 0.69782     0.32363947], sigma=[ 0.12019481  0.1010864 ]\n",
      "\n",
      "\n",
      "## Summary before optimization ##\n",
      "## Testing Summary ##\n",
      "Num of alternatives: 19896.0\n",
      "Num of discovery: 10109\n",
      "Num of true discovery: 9115.0\n",
      "Actual FDP: 0.0983282223761\n",
      "\n",
      "\n",
      "### initialization value\n",
      "Slope: a=[ 0.44940919 -1.30849123], b=[-4.63120937]\n",
      "Bump 0: w=-6.08399, mu=[ 0.58803821  0.5744276 ], sigma=[ 0.04959811  0.01339368]\n",
      "Bump 1: w=-5.93592, mu=[ 0.32894391  0.26822025], sigma=[ 0.03311858  0.02256295]\n",
      "Bump 2: w=-6.17534, mu=[ 0.69782001  0.32363948], sigma=[ 0.02889358  0.02043692]\n",
      "\n",
      "\n",
      "### iteration 0 ###\n",
      "mean t:  0.00741577\n",
      "mean discovery:  0.08249\n",
      "loss1:  [-0.07196429]\n",
      "loss2:  [ 0.02193414]\n",
      "n_rej:  8249\n",
      "Estimated FDP: [ 0.10304792]\n",
      "FDP: 0.0692205115772\n",
      "Slope: a=[ 0.44890919 -1.30899119], b=[-4.63170958]\n",
      "Bump 0: w=-6.08449, mu=[ 0.58853817  0.57392764], sigma=[ 0.04959811  0.01339368]\n",
      "Bump 1: w=-5.93642, mu=[ 0.32944384  0.26772025], sigma=[ 0.03311858  0.02256295]\n",
      "Bump 2: w=-6.17584, mu=[ 0.69831997  0.32313952], sigma=[ 0.02889358  0.02043692]\n",
      "\n",
      "\n",
      "### iteration 200 ###\n",
      "mean t:  0.00708183\n",
      "mean discovery:  0.08134\n",
      "loss1:  [-0.07083888]\n",
      "loss2:  [ 0.]\n",
      "n_rej:  8134\n",
      "Estimated FDP: [ 0.09997098]\n",
      "FDP: 0.0677403491517\n",
      "Slope: a=[ 0.42565164 -1.33497274], b=[-4.65560389]\n",
      "Bump 0: w=-6.10935, mu=[ 0.6253581   0.53297859], sigma=[ 0.04959811  0.01339368]\n",
      "Bump 1: w=-5.95878, mu=[ 0.37531859  0.23154403], sigma=[ 0.03311858  0.02256295]\n",
      "Bump 2: w=-6.19722, mu=[ 0.73051757  0.28563294], sigma=[ 0.02889358  0.02043692]\n",
      "\n",
      "\n"
     ]
    }
   ],
   "source": [
    "## test prim_fdr\n",
    "n_rej,t=PrimFDR(p,x,3,alpha=0.1,h=h,n_itr=1000,verbose=True)\n",
    "\n",
    "print(\"### Summary ###\")\n",
    "print(\"method: perim_test_1d\")\n",
    "print(\"# rejections: %s\"%str(n_rej))\n",
    "print(\"FDP: %s\"%str( np.sum((h==0)*(p<t))/np.sum(p<t)))\n",
    "print(\"### End Summary ###\")"
   ]
  },
  {
   "cell_type": "code",
   "execution_count": null,
   "metadata": {
    "collapsed": true
   },
   "outputs": [],
   "source": []
  }
 ],
 "metadata": {
  "kernelspec": {
   "display_name": "Python 3",
   "language": "python",
   "name": "python3"
  },
  "language_info": {
   "codemirror_mode": {
    "name": "ipython",
    "version": 3
   },
   "file_extension": ".py",
   "mimetype": "text/x-python",
   "name": "python",
   "nbconvert_exporter": "python",
   "pygments_lexer": "ipython3",
   "version": "3.6.3"
  }
 },
 "nbformat": 4,
 "nbformat_minor": 2
}
