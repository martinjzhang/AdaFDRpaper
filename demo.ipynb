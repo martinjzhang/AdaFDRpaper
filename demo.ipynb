{
 "cells": [
  {
   "cell_type": "code",
   "execution_count": null,
   "metadata": {
    "collapsed": true
   },
   "outputs": [],
   "source": [
    "## import public packages\n",
    "import numpy as np\n",
    "import matplotlib.pyplot as plt\n",
    "from matplotlib import mlab\n",
    "from datetime import datetime\n",
    "from sklearn.cluster import KMeans\n",
    "from scipy.stats import norm\n",
    "from scipy.stats import multivariate_normal\n",
    "# from __future__ import \n",
    "\n",
    "## import self-written packages \n",
    "\n",
    "%matplotlib inline\n",
    "%load_ext autoreload\n",
    "%autoreload 2"
   ]
  },
  {
   "cell_type": "code",
   "execution_count": null,
   "metadata": {
    "collapsed": true
   },
   "outputs": [],
   "source": [
    "def pi1_gen(X):\n",
    "    pi1=0.1*norm.pdf(X, loc=0.5, scale=0.1)+0.1*norm.pdf(X, loc=-0.8, scale=0.1)\n",
    "    pi1+=0.1*(X+1) \n",
    "    return pi1\n",
    "def datagen_1D_continuous(job=0, n_samples=10000,data_vis=0, num_case=4):\n",
    "    if job == 0: # Gaussian mixtures \n",
    "        X = np.random.uniform(-1,1,size = n_samples)\n",
    "        pi1=pi1_gen(X)\n",
    "        p = np.zeros(n_samples)\n",
    "        h = np.zeros(n_samples)\n",
    "               \n",
    "        for i in range(n_samples):\n",
    "            rnd = np.random.uniform()\n",
    "            if rnd > pi1[i]:\n",
    "                p[i] = np.random.uniform()\n",
    "                h[i] = 0\n",
    "            else:\n",
    "                p[i] = np.random.beta(a = 0.3, b = 4)\n",
    "                h[i] = 1\n",
    "        \n",
    "        if data_vis == 1:\n",
    "            fig = plt.figure()\n",
    "            ax1 = fig.add_subplot(121)\n",
    "            x_grid = np.arange(-1, 1, 1/100.0)\n",
    "            pi1_grid = pi1_gen(x_grid)  \n",
    "            ax1.plot(x_grid, pi1_grid)\n",
    "            \n",
    "            ax2 = fig.add_subplot(122)\n",
    "            alt=ax2.scatter(X[h==1][1:50], p[h==1][1:50],color='r')\n",
    "            nul=ax2.scatter(X[h==0][1:50], p[h==0][1:50],color='b')\n",
    "#             ax2.legend((alt,nul),('alternatives', 'nulls'))\n",
    "            plt.show()\n",
    "            \n",
    "        return p, h, np.reshape(X,[n_samples,1])\n",
    "def Storey_BH(x, alpha = 0.05, lamb=0.6):\n",
    "    pi0_hat=np.divide(np.sum(x>lamb),x.shape[0] *(1-lamb))\n",
    "    alpha /= pi0_hat\n",
    "    x_s = sorted(x)\n",
    "    n = len(x_s)\n",
    "    ic = 0\n",
    "    for i in range(n):\n",
    "        if x_s[i] < i*alpha/float(n):\n",
    "            ic = i\n",
    "    return ic, x_s[ic], pi0_hat\n"
   ]
  },
  {
   "cell_type": "code",
   "execution_count": null,
   "metadata": {
    "collapsed": true
   },
   "outputs": [],
   "source": []
  },
  {
   "cell_type": "code",
   "execution_count": null,
   "metadata": {
    "collapsed": true
   },
   "outputs": [],
   "source": []
  }
 ],
 "metadata": {
  "kernelspec": {
   "display_name": "Python 3",
   "language": "python",
   "name": "python3"
  },
  "language_info": {
   "codemirror_mode": {
    "name": "ipython",
    "version": 3
   },
   "file_extension": ".py",
   "mimetype": "text/x-python",
   "name": "python",
   "nbconvert_exporter": "python",
   "pygments_lexer": "ipython3",
   "version": "3.6.3"
  }
 },
 "nbformat": 4,
 "nbformat_minor": 2
}
